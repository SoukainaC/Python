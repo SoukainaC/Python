{
 "cells": [
  {
   "cell_type": "markdown",
   "metadata": {
    "id": "k2vEaLJ8d4fk"
   },
   "source": [
    "# Python the basics: datatypes\n",
    "\n",
    "> *DS Data manipulation, analysis and visualisation in Python*  \n",
    "> *September, 2020*\n",
    "\n"
   ]
  },
  {
   "cell_type": "markdown",
   "metadata": {
    "id": "KbZipJ2od4f5"
   },
   "source": [
    "## Importing packages"
   ]
  },
  {
   "cell_type": "markdown",
   "metadata": {
    "id": "GhYJeHPfd4f7"
   },
   "source": [
    "Importing packages is always the first thing you do in python, since it offers the functionalities to work with.\n",
    "\n",
    "Different options are available:\n",
    "\n",
    "* <span style=\"color:green\">import <i>package-name</i></span>  <p> importing all functionalities as such\n",
    "* <span style=\"color:green\">from <i>package-name</i> import <i>specific function</i></span>  <p> importing a specific function or subset of the package\n",
    "* <span style=\"color:green\">from <i>package-name</i> import *  </span>   <p> importing all definitions and actions of the package (sometimes better than option 1)\n",
    "* <span style=\"color:green\">import <i>package-name</i> as <i>short-package-name</i></span>    <p> Very good way to keep a good insight in where you use what package"
   ]
  },
  {
   "cell_type": "markdown",
   "metadata": {
    "id": "71OnCiNbd4f8"
   },
   "source": [
    "import all functionalities as such"
   ]
  },
  {
   "cell_type": "code",
   "execution_count": null,
   "metadata": {
    "id": "CYOhYX8Xd4f9",
    "run_control": {
     "frozen": false,
     "read_only": false
    }
   },
   "outputs": [],
   "source": [
    "# Two general packages\n",
    "import os\n",
    "import sys"
   ]
  },
  {
   "cell_type": "code",
   "execution_count": null,
   "metadata": {
    "colab": {
     "base_uri": "https://localhost:8080/"
    },
    "executionInfo": {
     "elapsed": 4079,
     "status": "ok",
     "timestamp": 1634561460578,
     "user": {
      "displayName": "Yacine ASLIMI",
      "photoUrl": "https://lh3.googleusercontent.com/a/default-user=s64",
      "userId": "17203730376393528118"
     },
     "user_tz": -120
    },
    "id": "lBCGfDD2c8WW",
    "outputId": "072544ed-c0b3-4a0e-c9df-866ba3aae607"
   },
   "outputs": [
    {
     "name": "stdout",
     "output_type": "stream",
     "text": [
      "Requirement already satisfied: tweepy in /usr/local/lib/python3.7/dist-packages (3.10.0)\n",
      "Requirement already satisfied: requests[socks]>=2.11.1 in /usr/local/lib/python3.7/dist-packages (from tweepy) (2.23.0)\n",
      "Requirement already satisfied: six>=1.10.0 in /usr/local/lib/python3.7/dist-packages (from tweepy) (1.15.0)\n",
      "Requirement already satisfied: requests-oauthlib>=0.7.0 in /usr/local/lib/python3.7/dist-packages (from tweepy) (1.3.0)\n",
      "Requirement already satisfied: oauthlib>=3.0.0 in /usr/local/lib/python3.7/dist-packages (from requests-oauthlib>=0.7.0->tweepy) (3.1.1)\n",
      "Requirement already satisfied: urllib3!=1.25.0,!=1.25.1,<1.26,>=1.21.1 in /usr/local/lib/python3.7/dist-packages (from requests[socks]>=2.11.1->tweepy) (1.24.3)\n",
      "Requirement already satisfied: chardet<4,>=3.0.2 in /usr/local/lib/python3.7/dist-packages (from requests[socks]>=2.11.1->tweepy) (3.0.4)\n",
      "Requirement already satisfied: certifi>=2017.4.17 in /usr/local/lib/python3.7/dist-packages (from requests[socks]>=2.11.1->tweepy) (2021.5.30)\n",
      "Requirement already satisfied: idna<3,>=2.5 in /usr/local/lib/python3.7/dist-packages (from requests[socks]>=2.11.1->tweepy) (2.10)\n",
      "Requirement already satisfied: PySocks!=1.5.7,>=1.5.6 in /usr/local/lib/python3.7/dist-packages (from requests[socks]>=2.11.1->tweepy) (1.7.1)\n"
     ]
    }
   ],
   "source": [
    "pip install tweepy"
   ]
  },
  {
   "cell_type": "code",
   "execution_count": null,
   "metadata": {
    "id": "UtT4vRfedSKO"
   },
   "outputs": [],
   "source": [
    "import tweepy"
   ]
  },
  {
   "cell_type": "code",
   "execution_count": null,
   "metadata": {
    "id": "9x0s1UcNdXdA"
   },
   "outputs": [],
   "source": [
    "tweepy."
   ]
  },
  {
   "cell_type": "markdown",
   "metadata": {
    "id": "ngHmf6obd4f-"
   },
   "source": [
    "## Basic python datatypes"
   ]
  },
  {
   "cell_type": "markdown",
   "metadata": {
    "id": "17wWvKAld4f_"
   },
   "source": [
    "### Numerical types"
   ]
  },
  {
   "cell_type": "markdown",
   "metadata": {
    "id": "3RaMXtVCd4gC"
   },
   "source": [
    "Python supports the following numerical, scalar types:\n",
    "* integer\n",
    "* floats\n",
    "* complex\n",
    "* boolean"
   ]
  },
  {
   "cell_type": "code",
   "execution_count": null,
   "metadata": {
    "id": "r39v2wt9d4gE",
    "run_control": {
     "frozen": false,
     "read_only": false
    }
   },
   "outputs": [],
   "source": [
    "an_integer = 3"
   ]
  },
  {
   "cell_type": "code",
   "execution_count": null,
   "metadata": {
    "colab": {
     "base_uri": "https://localhost:8080/"
    },
    "executionInfo": {
     "elapsed": 637,
     "status": "ok",
     "timestamp": 1634561916526,
     "user": {
      "displayName": "Yacine ASLIMI",
      "photoUrl": "https://lh3.googleusercontent.com/a/default-user=s64",
      "userId": "17203730376393528118"
     },
     "user_tz": -120
    },
    "id": "3BG0WFLXe2UG",
    "outputId": "d981558c-0ad9-4b56-d5be-fe8c38069c82"
   },
   "outputs": [
    {
     "name": "stdout",
     "output_type": "stream",
     "text": [
      "Variable     Type      Data/Info\n",
      "--------------------------------\n",
      "an_integer   int       3\n",
      "os           module    <module 'os' from '/usr/lib/python3.7/os.py'>\n",
      "sys          module    <module 'sys' (built-in)>\n",
      "tweepy       module    <module 'tweepy' from '/u<...>ages/tweepy/__init__.py'>\n"
     ]
    }
   ],
   "source": [
    "%whos"
   ]
  },
  {
   "cell_type": "code",
   "execution_count": null,
   "metadata": {
    "colab": {
     "base_uri": "https://localhost:8080/"
    },
    "executionInfo": {
     "elapsed": 428,
     "status": "ok",
     "timestamp": 1634561953572,
     "user": {
      "displayName": "Yacine ASLIMI",
      "photoUrl": "https://lh3.googleusercontent.com/a/default-user=s64",
      "userId": "17203730376393528118"
     },
     "user_tz": -120
    },
    "id": "5uR100d2evAd",
    "outputId": "70f327a2-36eb-465e-fb35-cde2bc773483"
   },
   "outputs": [
    {
     "data": {
      "text/plain": [
       "int"
      ]
     },
     "execution_count": 6,
     "metadata": {},
     "output_type": "execute_result"
    }
   ],
   "source": [
    "type(an_integer)"
   ]
  },
  {
   "cell_type": "code",
   "execution_count": null,
   "metadata": {
    "id": "9xQZ71VTd4gH",
    "outputId": "64af4317-0ddf-4129-e5d9-7ca5399e51ae",
    "run_control": {
     "frozen": false,
     "read_only": false
    }
   },
   "outputs": [
    {
     "data": {
      "text/plain": [
       "3"
      ]
     },
     "execution_count": 3,
     "metadata": {
      "tags": []
     },
     "output_type": "execute_result"
    }
   ],
   "source": [
    "an_integer"
   ]
  },
  {
   "cell_type": "code",
   "execution_count": null,
   "metadata": {
    "id": "1LuSHImQd4gI",
    "outputId": "d01e632f-4dd7-4c43-fd0a-23cd98964600",
    "run_control": {
     "frozen": false,
     "read_only": false
    }
   },
   "outputs": [
    {
     "data": {
      "text/plain": [
       "3.0"
      ]
     },
     "execution_count": 4,
     "metadata": {
      "tags": []
     },
     "output_type": "execute_result"
    }
   ],
   "source": [
    "# type casting: converting the integer to a float type\n",
    "float(an_integer)"
   ]
  },
  {
   "cell_type": "code",
   "execution_count": null,
   "metadata": {
    "colab": {
     "base_uri": "https://localhost:8080/"
    },
    "executionInfo": {
     "elapsed": 393,
     "status": "ok",
     "timestamp": 1634563537030,
     "user": {
      "displayName": "Yacine ASLIMI",
      "photoUrl": "https://lh3.googleusercontent.com/a/default-user=s64",
      "userId": "17203730376393528118"
     },
     "user_tz": -120
    },
    "id": "iRpp3GJfk8qX",
    "outputId": "56bd861c-bc7f-4165-e308-ce1fbcbbd20a"
   },
   "outputs": [
    {
     "data": {
      "text/plain": [
       "int"
      ]
     },
     "execution_count": 7,
     "metadata": {},
     "output_type": "execute_result"
    }
   ],
   "source": [
    "type(an_integer)"
   ]
  },
  {
   "cell_type": "code",
   "execution_count": null,
   "metadata": {
    "colab": {
     "base_uri": "https://localhost:8080/"
    },
    "executionInfo": {
     "elapsed": 356,
     "status": "ok",
     "timestamp": 1634563568252,
     "user": {
      "displayName": "Yacine ASLIMI",
      "photoUrl": "https://lh3.googleusercontent.com/a/default-user=s64",
      "userId": "17203730376393528118"
     },
     "user_tz": -120
    },
    "id": "4NLKJ7zxlFD1",
    "outputId": "31c677af-0f09-495b-c350-135d4360d7c4"
   },
   "outputs": [
    {
     "data": {
      "text/plain": [
       "3.0"
      ]
     },
     "execution_count": 9,
     "metadata": {},
     "output_type": "execute_result"
    }
   ],
   "source": [
    "an_integer = float(an_integer)\n",
    "an_integer"
   ]
  },
  {
   "cell_type": "code",
   "execution_count": null,
   "metadata": {
    "colab": {
     "base_uri": "https://localhost:8080/"
    },
    "executionInfo": {
     "elapsed": 712,
     "status": "ok",
     "timestamp": 1634563600530,
     "user": {
      "displayName": "Yacine ASLIMI",
      "photoUrl": "https://lh3.googleusercontent.com/a/default-user=s64",
      "userId": "17203730376393528118"
     },
     "user_tz": -120
    },
    "id": "isPMUl5Ld4gK",
    "outputId": "6e556d8f-d126-4291-eee6-f5da1e3de74f",
    "run_control": {
     "frozen": false,
     "read_only": false
    }
   },
   "outputs": [
    {
     "data": {
      "text/plain": [
       "float"
      ]
     },
     "execution_count": 10,
     "metadata": {},
     "output_type": "execute_result"
    }
   ],
   "source": [
    "a_float = 0.2\n",
    "type(a_float)"
   ]
  },
  {
   "cell_type": "code",
   "execution_count": null,
   "metadata": {
    "id": "Zf29SMFbd4gL",
    "outputId": "cf35d07e-f3fc-4650-943e-9f9b6e3e9a0a",
    "run_control": {
     "frozen": false,
     "read_only": false
    }
   },
   "outputs": [
    {
     "name": "stdout",
     "output_type": "stream",
     "text": [
      "<class 'complex'> 1.5 0.5\n"
     ]
    }
   ],
   "source": [
    "a_complex = 1.5 + 0.5j\n",
    "# get the real or imaginary part of the complex number by using the functions\n",
    "# real and imag on the variable\n",
    "print(type(a_complex), a_complex.real, a_complex.imag)"
   ]
  },
  {
   "cell_type": "code",
   "execution_count": null,
   "metadata": {
    "colab": {
     "base_uri": "https://localhost:8080/"
    },
    "executionInfo": {
     "elapsed": 560,
     "status": "ok",
     "timestamp": 1634563759727,
     "user": {
      "displayName": "Yacine ASLIMI",
      "photoUrl": "https://lh3.googleusercontent.com/a/default-user=s64",
      "userId": "17203730376393528118"
     },
     "user_tz": -120
    },
    "id": "0mB607qJd4gM",
    "outputId": "90ed8665-c850-4b01-896a-ab9fb043abfb",
    "run_control": {
     "frozen": false,
     "read_only": false
    }
   },
   "outputs": [
    {
     "data": {
      "text/plain": [
       "False"
      ]
     },
     "execution_count": 11,
     "metadata": {},
     "output_type": "execute_result"
    }
   ],
   "source": [
    "a_boolean = (3 > 4)\n",
    "a_boolean"
   ]
  },
  {
   "cell_type": "code",
   "execution_count": null,
   "metadata": {
    "colab": {
     "base_uri": "https://localhost:8080/"
    },
    "executionInfo": {
     "elapsed": 359,
     "status": "ok",
     "timestamp": 1634563828425,
     "user": {
      "displayName": "Yacine ASLIMI",
      "photoUrl": "https://lh3.googleusercontent.com/a/default-user=s64",
      "userId": "17203730376393528118"
     },
     "user_tz": -120
    },
    "id": "AxvRJpg2mAnH",
    "outputId": "38952c8a-21f1-4407-9f81-3e912d5501ed"
   },
   "outputs": [
    {
     "data": {
      "text/plain": [
       "False"
      ]
     },
     "execution_count": 12,
     "metadata": {},
     "output_type": "execute_result"
    }
   ],
   "source": [
    "(3 > 40) & (20>500)"
   ]
  },
  {
   "cell_type": "code",
   "execution_count": null,
   "metadata": {
    "colab": {
     "base_uri": "https://localhost:8080/"
    },
    "executionInfo": {
     "elapsed": 804,
     "status": "ok",
     "timestamp": 1634563852753,
     "user": {
      "displayName": "Yacine ASLIMI",
      "photoUrl": "https://lh3.googleusercontent.com/a/default-user=s64",
      "userId": "17203730376393528118"
     },
     "user_tz": -120
    },
    "id": "FHoG5lBWmMVk",
    "outputId": "f29df9cd-14fd-49f8-e867-6a9d269f76d1"
   },
   "outputs": [
    {
     "data": {
      "text/plain": [
       "True"
      ]
     },
     "execution_count": 13,
     "metadata": {},
     "output_type": "execute_result"
    }
   ],
   "source": [
    "(3 < 40) & (20<500)"
   ]
  },
  {
   "cell_type": "code",
   "execution_count": null,
   "metadata": {
    "colab": {
     "base_uri": "https://localhost:8080/"
    },
    "executionInfo": {
     "elapsed": 630,
     "status": "ok",
     "timestamp": 1634564096263,
     "user": {
      "displayName": "Yacine ASLIMI",
      "photoUrl": "https://lh3.googleusercontent.com/a/default-user=s64",
      "userId": "17203730376393528118"
     },
     "user_tz": -120
    },
    "id": "lMmp5GCemR6F",
    "outputId": "0adc8a15-9781-46d5-e8cd-62e8ce939a26"
   },
   "outputs": [
    {
     "data": {
      "text/plain": [
       "False"
      ]
     },
     "execution_count": 18,
     "metadata": {},
     "output_type": "execute_result"
    }
   ],
   "source": [
    "(3 < 40) & (20>500)"
   ]
  },
  {
   "cell_type": "code",
   "execution_count": null,
   "metadata": {
    "colab": {
     "base_uri": "https://localhost:8080/"
    },
    "executionInfo": {
     "elapsed": 323,
     "status": "ok",
     "timestamp": 1634563939589,
     "user": {
      "displayName": "Yacine ASLIMI",
      "photoUrl": "https://lh3.googleusercontent.com/a/default-user=s64",
      "userId": "17203730376393528118"
     },
     "user_tz": -120
    },
    "id": "l-zciwBsmd-D",
    "outputId": "0268e4b8-bc2e-4fd7-c816-7a2d60c628f1"
   },
   "outputs": [
    {
     "data": {
      "text/plain": [
       "True"
      ]
     },
     "execution_count": 15,
     "metadata": {},
     "output_type": "execute_result"
    }
   ],
   "source": [
    "(3 < 40) | (20>500)"
   ]
  },
  {
   "cell_type": "code",
   "execution_count": null,
   "metadata": {
    "colab": {
     "base_uri": "https://localhost:8080/"
    },
    "executionInfo": {
     "elapsed": 37,
     "status": "ok",
     "timestamp": 1634563979130,
     "user": {
      "displayName": "Yacine ASLIMI",
      "photoUrl": "https://lh3.googleusercontent.com/a/default-user=s64",
      "userId": "17203730376393528118"
     },
     "user_tz": -120
    },
    "id": "K_-SrAYjmsRw",
    "outputId": "f3f56385-ddd4-4331-c3f3-aa325fa64ce7"
   },
   "outputs": [
    {
     "data": {
      "text/plain": [
       "False"
      ]
     },
     "execution_count": 16,
     "metadata": {},
     "output_type": "execute_result"
    }
   ],
   "source": [
    "(3 > 40) | (20>500)"
   ]
  },
  {
   "cell_type": "code",
   "execution_count": null,
   "metadata": {
    "colab": {
     "base_uri": "https://localhost:8080/"
    },
    "executionInfo": {
     "elapsed": 485,
     "status": "ok",
     "timestamp": 1634564004837,
     "user": {
      "displayName": "Yacine ASLIMI",
      "photoUrl": "https://lh3.googleusercontent.com/a/default-user=s64",
      "userId": "17203730376393528118"
     },
     "user_tz": -120
    },
    "id": "yAidpzMBmxtL",
    "outputId": "62197a69-06ad-46e6-b1dc-201e31e23722"
   },
   "outputs": [
    {
     "data": {
      "text/plain": [
       "True"
      ]
     },
     "execution_count": 17,
     "metadata": {},
     "output_type": "execute_result"
    }
   ],
   "source": [
    "(3 < 40) | (20<500)"
   ]
  },
  {
   "cell_type": "code",
   "execution_count": null,
   "metadata": {
    "colab": {
     "base_uri": "https://localhost:8080/",
     "height": 35
    },
    "executionInfo": {
     "elapsed": 359,
     "status": "ok",
     "timestamp": 1634564149948,
     "user": {
      "displayName": "Yacine ASLIMI",
      "photoUrl": "https://lh3.googleusercontent.com/a/default-user=s64",
      "userId": "17203730376393528118"
     },
     "user_tz": -120
    },
    "id": "OEV_BTvUnS7v",
    "outputId": "8c664c81-9723-449d-e912-d7e384d3b406"
   },
   "outputs": [
    {
     "data": {
      "application/vnd.google.colaboratory.intrinsic+json": {
       "type": "string"
      },
      "text/plain": [
       "'IAS'"
      ]
     },
     "execution_count": 19,
     "metadata": {},
     "output_type": "execute_result"
    }
   ],
   "source": [
    "var_1 = \"IAS\"\n",
    "var_1"
   ]
  },
  {
   "cell_type": "code",
   "execution_count": null,
   "metadata": {
    "colab": {
     "base_uri": "https://localhost:8080/",
     "height": 35
    },
    "executionInfo": {
     "elapsed": 400,
     "status": "ok",
     "timestamp": 1634564177637,
     "user": {
      "displayName": "Yacine ASLIMI",
      "photoUrl": "https://lh3.googleusercontent.com/a/default-user=s64",
      "userId": "17203730376393528118"
     },
     "user_tz": -120
    },
    "id": "wWZznef5nc81",
    "outputId": "1d4eb793-377c-4cc2-be4e-6ce81c9e7132"
   },
   "outputs": [
    {
     "data": {
      "application/vnd.google.colaboratory.intrinsic+json": {
       "type": "string"
      },
      "text/plain": [
       "'IAS2'"
      ]
     },
     "execution_count": 20,
     "metadata": {},
     "output_type": "execute_result"
    }
   ],
   "source": [
    "var_2 = 'IAS2'\n",
    "var_2"
   ]
  },
  {
   "cell_type": "code",
   "execution_count": null,
   "metadata": {
    "colab": {
     "base_uri": "https://localhost:8080/"
    },
    "executionInfo": {
     "elapsed": 579,
     "status": "ok",
     "timestamp": 1634564209299,
     "user": {
      "displayName": "Yacine ASLIMI",
      "photoUrl": "https://lh3.googleusercontent.com/a/default-user=s64",
      "userId": "17203730376393528118"
     },
     "user_tz": -120
    },
    "id": "485iwDouniY4",
    "outputId": "cbb55260-f1af-4711-9cc9-940e812c1582"
   },
   "outputs": [
    {
     "data": {
      "text/plain": [
       "str"
      ]
     },
     "execution_count": 21,
     "metadata": {},
     "output_type": "execute_result"
    }
   ],
   "source": [
    "type(var_2)"
   ]
  },
  {
   "cell_type": "code",
   "execution_count": null,
   "metadata": {
    "colab": {
     "base_uri": "https://localhost:8080/"
    },
    "executionInfo": {
     "elapsed": 261,
     "status": "ok",
     "timestamp": 1634564328316,
     "user": {
      "displayName": "Yacine ASLIMI",
      "photoUrl": "https://lh3.googleusercontent.com/a/default-user=s64",
      "userId": "17203730376393528118"
     },
     "user_tz": -120
    },
    "id": "CyEMa3LSnj1Y",
    "outputId": "28fcf74b-e221-420f-a897-6dc16bfcddf8"
   },
   "outputs": [
    {
     "name": "stdout",
     "output_type": "stream",
     "text": [
      "34\n",
      "<class 'str'>\n"
     ]
    }
   ],
   "source": [
    "var_3 = \"34\"\n",
    "print(var_3)\n",
    "print(type(var_3))"
   ]
  },
  {
   "cell_type": "code",
   "execution_count": null,
   "metadata": {
    "colab": {
     "base_uri": "https://localhost:8080/"
    },
    "executionInfo": {
     "elapsed": 656,
     "status": "ok",
     "timestamp": 1634564373087,
     "user": {
      "displayName": "Yacine ASLIMI",
      "photoUrl": "https://lh3.googleusercontent.com/a/default-user=s64",
      "userId": "17203730376393528118"
     },
     "user_tz": -120
    },
    "id": "2EisFCpwoLan",
    "outputId": "10b06cde-2033-44d4-8f66-731457d21c7a"
   },
   "outputs": [
    {
     "data": {
      "text/plain": [
       "34.0"
      ]
     },
     "execution_count": 26,
     "metadata": {},
     "output_type": "execute_result"
    }
   ],
   "source": [
    "float(var_3)"
   ]
  },
  {
   "cell_type": "code",
   "execution_count": null,
   "metadata": {
    "colab": {
     "base_uri": "https://localhost:8080/"
    },
    "executionInfo": {
     "elapsed": 60,
     "status": "ok",
     "timestamp": 1634564401479,
     "user": {
      "displayName": "Yacine ASLIMI",
      "photoUrl": "https://lh3.googleusercontent.com/a/default-user=s64",
      "userId": "17203730376393528118"
     },
     "user_tz": -120
    },
    "id": "dKoc_MwboTR2",
    "outputId": "08b525b9-780f-4362-fca4-7ac65d5bd8b7"
   },
   "outputs": [
    {
     "data": {
      "text/plain": [
       "34"
      ]
     },
     "execution_count": 27,
     "metadata": {},
     "output_type": "execute_result"
    }
   ],
   "source": [
    "int(var_3)"
   ]
  },
  {
   "cell_type": "code",
   "execution_count": null,
   "metadata": {
    "colab": {
     "base_uri": "https://localhost:8080/",
     "height": 35
    },
    "executionInfo": {
     "elapsed": 322,
     "status": "ok",
     "timestamp": 1634564445992,
     "user": {
      "displayName": "Yacine ASLIMI",
      "photoUrl": "https://lh3.googleusercontent.com/a/default-user=s64",
      "userId": "17203730376393528118"
     },
     "user_tz": -120
    },
    "id": "GyuR8HAMoc70",
    "outputId": "ae02bc21-421a-44b3-ddf6-66aacb64cc15"
   },
   "outputs": [
    {
     "data": {
      "application/vnd.google.colaboratory.intrinsic+json": {
       "type": "string"
      },
      "text/plain": [
       "'Hello'"
      ]
     },
     "execution_count": 28,
     "metadata": {},
     "output_type": "execute_result"
    }
   ],
   "source": [
    "var_4 = \"Hello\"\n",
    "var_4"
   ]
  },
  {
   "cell_type": "code",
   "execution_count": null,
   "metadata": {
    "colab": {
     "base_uri": "https://localhost:8080/",
     "height": 166
    },
    "executionInfo": {
     "elapsed": 419,
     "status": "error",
     "timestamp": 1634564470748,
     "user": {
      "displayName": "Yacine ASLIMI",
      "photoUrl": "https://lh3.googleusercontent.com/a/default-user=s64",
      "userId": "17203730376393528118"
     },
     "user_tz": -120
    },
    "id": "ILhTj-bboj5q",
    "outputId": "791fdcc0-1f16-487b-e74e-2df82a98c7ac"
   },
   "outputs": [
    {
     "ename": "ValueError",
     "evalue": "ignored",
     "output_type": "error",
     "traceback": [
      "\u001b[0;31m---------------------------------------------------------------------------\u001b[0m",
      "\u001b[0;31mValueError\u001b[0m                                Traceback (most recent call last)",
      "\u001b[0;32m<ipython-input-29-4c41abdcf628>\u001b[0m in \u001b[0;36m<module>\u001b[0;34m()\u001b[0m\n\u001b[0;32m----> 1\u001b[0;31m \u001b[0mint\u001b[0m\u001b[0;34m(\u001b[0m\u001b[0mvar_4\u001b[0m\u001b[0;34m)\u001b[0m\u001b[0;34m\u001b[0m\u001b[0;34m\u001b[0m\u001b[0m\n\u001b[0m",
      "\u001b[0;31mValueError\u001b[0m: invalid literal for int() with base 10: 'Hello'"
     ]
    }
   ],
   "source": [
    "int(var_4)"
   ]
  },
  {
   "cell_type": "code",
   "execution_count": null,
   "metadata": {
    "colab": {
     "base_uri": "https://localhost:8080/",
     "height": 35
    },
    "executionInfo": {
     "elapsed": 408,
     "status": "ok",
     "timestamp": 1634564732010,
     "user": {
      "displayName": "Yacine ASLIMI",
      "photoUrl": "https://lh3.googleusercontent.com/a/default-user=s64",
      "userId": "17203730376393528118"
     },
     "user_tz": -120
    },
    "id": "6cuDKOxxo-i5",
    "outputId": "89af4530-044e-4d5d-ce43-18d11d94306a"
   },
   "outputs": [
    {
     "data": {
      "application/vnd.google.colaboratory.intrinsic+json": {
       "type": "string"
      },
      "text/plain": [
       "'32'"
      ]
     },
     "execution_count": 34,
     "metadata": {},
     "output_type": "execute_result"
    }
   ],
   "source": [
    "aa = 32\n",
    "str(aa)"
   ]
  },
  {
   "cell_type": "code",
   "execution_count": null,
   "metadata": {
    "id": "OdX08Z5EpTWQ"
   },
   "outputs": [],
   "source": [
    "a = 10\n",
    "a = 18\n",
    "a = 80\n"
   ]
  },
  {
   "cell_type": "code",
   "execution_count": null,
   "metadata": {
    "colab": {
     "base_uri": "https://localhost:8080/"
    },
    "executionInfo": {
     "elapsed": 360,
     "status": "ok",
     "timestamp": 1634564688978,
     "user": {
      "displayName": "Yacine ASLIMI",
      "photoUrl": "https://lh3.googleusercontent.com/a/default-user=s64",
      "userId": "17203730376393528118"
     },
     "user_tz": -120
    },
    "id": "TPV8j59cpbCm",
    "outputId": "72bf01f6-3177-4ee2-d3d2-6e8f83982ec7"
   },
   "outputs": [
    {
     "name": "stdout",
     "output_type": "stream",
     "text": [
      "Variable     Type      Data/Info\n",
      "--------------------------------\n",
      "a            int       80\n",
      "a_boolean    bool      False\n",
      "a_float      float     0.2\n",
      "aa           int       32\n",
      "an_integer   float     3.0\n",
      "os           module    <module 'os' from '/usr/lib/python3.7/os.py'>\n",
      "sys          module    <module 'sys' (built-in)>\n",
      "tweepy       module    <module 'tweepy' from '/u<...>ages/tweepy/__init__.py'>\n",
      "var_1        str       IAS\n",
      "var_2        str       IAS2\n",
      "var_3        str       34\n",
      "var_4        str       Hello\n"
     ]
    }
   ],
   "source": [
    "%whos"
   ]
  },
  {
   "cell_type": "code",
   "execution_count": null,
   "metadata": {
    "id": "l-7oTCkgp_Ad"
   },
   "outputs": [],
   "source": [
    "a = str(a)\n",
    "a_ = float(a)"
   ]
  },
  {
   "cell_type": "code",
   "execution_count": null,
   "metadata": {
    "colab": {
     "base_uri": "https://localhost:8080/"
    },
    "executionInfo": {
     "elapsed": 431,
     "status": "ok",
     "timestamp": 1634564905859,
     "user": {
      "displayName": "Yacine ASLIMI",
      "photoUrl": "https://lh3.googleusercontent.com/a/default-user=s64",
      "userId": "17203730376393528118"
     },
     "user_tz": -120
    },
    "id": "nOnz27Bwp_gm",
    "outputId": "1044f0f3-dc9d-4c54-e242-2509e6655494"
   },
   "outputs": [
    {
     "name": "stdout",
     "output_type": "stream",
     "text": [
      "Variable     Type      Data/Info\n",
      "--------------------------------\n",
      "a            str       80\n",
      "a_           float     80.0\n",
      "a_boolean    bool      False\n",
      "a_float      float     0.2\n",
      "aa           int       32\n",
      "an_integer   float     3.0\n",
      "os           module    <module 'os' from '/usr/lib/python3.7/os.py'>\n",
      "sys          module    <module 'sys' (built-in)>\n",
      "tweepy       module    <module 'tweepy' from '/u<...>ages/tweepy/__init__.py'>\n",
      "var_1        str       IAS\n",
      "var_2        str       IAS2\n",
      "var_3        str       34\n",
      "var_4        str       Hello\n"
     ]
    }
   ],
   "source": [
    "%whos"
   ]
  },
  {
   "cell_type": "code",
   "execution_count": null,
   "metadata": {
    "colab": {
     "base_uri": "https://localhost:8080/"
    },
    "executionInfo": {
     "elapsed": 411,
     "status": "ok",
     "timestamp": 1634565026677,
     "user": {
      "displayName": "Yacine ASLIMI",
      "photoUrl": "https://lh3.googleusercontent.com/a/default-user=s64",
      "userId": "17203730376393528118"
     },
     "user_tz": -120
    },
    "id": "tbSdIm06qfu6",
    "outputId": "4c7bd2d4-a897-45e5-a4ea-db5381fca89d"
   },
   "outputs": [
    {
     "data": {
      "text/plain": [
       "5"
      ]
     },
     "execution_count": 39,
     "metadata": {},
     "output_type": "execute_result"
    }
   ],
   "source": [
    "azerty = 5.7\n",
    "int(azerty)"
   ]
  },
  {
   "cell_type": "code",
   "execution_count": 1,
   "metadata": {
    "colab": {
     "base_uri": "https://localhost:8080/"
    },
    "executionInfo": {
     "elapsed": 296,
     "status": "ok",
     "timestamp": 1634565081295,
     "user": {
      "displayName": "Yacine ASLIMI",
      "photoUrl": "https://lh3.googleusercontent.com/a/default-user=s64",
      "userId": "17203730376393528118"
     },
     "user_tz": -120
    },
    "id": "q9ZvcLZ8q1co",
    "outputId": "00be1efd-8933-41c8-93fe-214a3749c273"
   },
   "outputs": [
    {
     "ename": "NameError",
     "evalue": "name 'azerty' is not defined",
     "output_type": "error",
     "traceback": [
      "\u001b[1;31m---------------------------------------------------------------------------\u001b[0m",
      "\u001b[1;31mNameError\u001b[0m                                 Traceback (most recent call last)",
      "\u001b[1;32m<ipython-input-1-381fae736ea5>\u001b[0m in \u001b[0;36m<module>\u001b[1;34m\u001b[0m\n\u001b[1;32m----> 1\u001b[1;33m \u001b[0mround\u001b[0m\u001b[1;33m(\u001b[0m\u001b[0mazerty\u001b[0m\u001b[1;33m,\u001b[0m \u001b[1;36m2\u001b[0m\u001b[1;33m)\u001b[0m\u001b[1;33m\u001b[0m\u001b[1;33m\u001b[0m\u001b[0m\n\u001b[0m",
      "\u001b[1;31mNameError\u001b[0m: name 'azerty' is not defined"
     ]
    }
   ],
   "source": [
    "round(azerty, 2)"
   ]
  },
  {
   "cell_type": "markdown",
   "metadata": {
    "id": "LhQa3zkFd4gN"
   },
   "source": [
    "A Python shell can therefore replace your pocket calculator, with the basic arithmetic operations addition, substraction, division ... are natively implemented\n",
    "+, -, *, /, % (modulo) natively implemented\n",
    "\n",
    " *operation*| *python implementation* \n",
    "----------:| --------------------- \n",
    " addition  | `+`\n",
    " substraction | `-`\n",
    " multiplication | `*`\n",
    " division | `/`\n",
    " modulo | `%`\n",
    " exponentiation | `**`"
   ]
  },
  {
   "cell_type": "code",
   "execution_count": null,
   "metadata": {
    "colab": {
     "base_uri": "https://localhost:8080/"
    },
    "executionInfo": {
     "elapsed": 325,
     "status": "ok",
     "timestamp": 1634565282451,
     "user": {
      "displayName": "Yacine ASLIMI",
      "photoUrl": "https://lh3.googleusercontent.com/a/default-user=s64",
      "userId": "17203730376393528118"
     },
     "user_tz": -120
    },
    "id": "kpuFNCq-d4gO",
    "outputId": "eef5c575-6e83-4de0-de52-43356be6d517",
    "run_control": {
     "frozen": false,
     "read_only": false
    }
   },
   "outputs": [
    {
     "name": "stdout",
     "output_type": "stream",
     "text": [
      "21.0\n",
      "1024\n",
      "2\n"
     ]
    }
   ],
   "source": [
    "print (7 * 3.)\n",
    "print (2**10)\n",
    "print (8 % 3) ### reste: 2"
   ]
  },
  {
   "cell_type": "markdown",
   "metadata": {
    "id": "f2LH03vjd4gP"
   },
   "source": [
    "**Attention !**"
   ]
  },
  {
   "cell_type": "code",
   "execution_count": null,
   "metadata": {
    "colab": {
     "base_uri": "https://localhost:8080/"
    },
    "executionInfo": {
     "elapsed": 264,
     "status": "ok",
     "timestamp": 1634565474398,
     "user": {
      "displayName": "Yacine ASLIMI",
      "photoUrl": "https://lh3.googleusercontent.com/a/default-user=s64",
      "userId": "17203730376393528118"
     },
     "user_tz": -120
    },
    "id": "Ay68GGbId4gQ",
    "outputId": "a569512a-7a65-4e56-e2d0-a38eb5f20f9b",
    "run_control": {
     "frozen": false,
     "read_only": false
    }
   },
   "outputs": [
    {
     "name": "stdout",
     "output_type": "stream",
     "text": [
      "1.5\n",
      "1.5\n",
      "1.0\n"
     ]
    }
   ],
   "source": [
    "print(3/2)\n",
    "print(3/2.)\n",
    "print(3.//2.)  #integer division"
   ]
  },
  {
   "cell_type": "code",
   "execution_count": null,
   "metadata": {
    "colab": {
     "base_uri": "https://localhost:8080/"
    },
    "executionInfo": {
     "elapsed": 287,
     "status": "ok",
     "timestamp": 1634565689046,
     "user": {
      "displayName": "Yacine ASLIMI",
      "photoUrl": "https://lh3.googleusercontent.com/a/default-user=s64",
      "userId": "17203730376393528118"
     },
     "user_tz": -120
    },
    "id": "ARfqWpwgs3ar",
    "outputId": "ec7b9e58-e129-4e8e-aac3-12a848c0a53e"
   },
   "outputs": [
    {
     "data": {
      "text/plain": [
       "3.141592653589793"
      ]
     },
     "execution_count": 49,
     "metadata": {},
     "output_type": "execute_result"
    }
   ],
   "source": [
    "import numpy as np\n",
    "np.pi"
   ]
  },
  {
   "cell_type": "markdown",
   "metadata": {
    "id": "4HndBnGNd4gQ"
   },
   "source": [
    "### Containers"
   ]
  },
  {
   "cell_type": "markdown",
   "metadata": {
    "id": "IkT3HrLSd4gZ"
   },
   "source": [
    "#### Lists"
   ]
  },
  {
   "cell_type": "markdown",
   "metadata": {
    "id": "n_mODPZwd4gZ"
   },
   "source": [
    "A list is an ordered collection of objects, that may have different types. The list container supports slicing, appending, sorting ...\n",
    "\n",
    "Indexing starts at 0 (as in C, C++ or Java), not at 1 (as in Fortran or Matlab)!\n"
   ]
  },
  {
   "cell_type": "code",
   "execution_count": null,
   "metadata": {
    "id": "g78YHJCptqfv"
   },
   "outputs": [],
   "source": [
    "une_liste = [\"azerty\", 12, 12., False, 6778, \"djk\"]"
   ]
  },
  {
   "cell_type": "code",
   "execution_count": null,
   "metadata": {
    "colab": {
     "base_uri": "https://localhost:8080/",
     "height": 35
    },
    "executionInfo": {
     "elapsed": 304,
     "status": "ok",
     "timestamp": 1634565924289,
     "user": {
      "displayName": "Yacine ASLIMI",
      "photoUrl": "https://lh3.googleusercontent.com/a/default-user=s64",
      "userId": "17203730376393528118"
     },
     "user_tz": -120
    },
    "id": "EBpUVf6qt8U6",
    "outputId": "8333c271-ed60-479d-a34d-eb9438618bb7"
   },
   "outputs": [
    {
     "data": {
      "application/vnd.google.colaboratory.intrinsic+json": {
       "type": "string"
      },
      "text/plain": [
       "'azerty'"
      ]
     },
     "execution_count": 51,
     "metadata": {},
     "output_type": "execute_result"
    }
   ],
   "source": [
    "une_liste[0] ### Element 1 de la liste"
   ]
  },
  {
   "cell_type": "code",
   "execution_count": null,
   "metadata": {
    "colab": {
     "base_uri": "https://localhost:8080/",
     "height": 35
    },
    "executionInfo": {
     "elapsed": 407,
     "status": "ok",
     "timestamp": 1634565977513,
     "user": {
      "displayName": "Yacine ASLIMI",
      "photoUrl": "https://lh3.googleusercontent.com/a/default-user=s64",
      "userId": "17203730376393528118"
     },
     "user_tz": -120
    },
    "id": "ryd7gqltuUcA",
    "outputId": "ea2609cd-ff8d-4b7a-8982-645fce7d6d77"
   },
   "outputs": [
    {
     "data": {
      "application/vnd.google.colaboratory.intrinsic+json": {
       "type": "string"
      },
      "text/plain": [
       "'djk'"
      ]
     },
     "execution_count": 52,
     "metadata": {},
     "output_type": "execute_result"
    }
   ],
   "source": [
    "une_liste[5]"
   ]
  },
  {
   "cell_type": "code",
   "execution_count": null,
   "metadata": {
    "colab": {
     "base_uri": "https://localhost:8080/"
    },
    "executionInfo": {
     "elapsed": 342,
     "status": "ok",
     "timestamp": 1634566118681,
     "user": {
      "displayName": "Yacine ASLIMI",
      "photoUrl": "https://lh3.googleusercontent.com/a/default-user=s64",
      "userId": "17203730376393528118"
     },
     "user_tz": -120
    },
    "id": "ZAoolnLuu4Be",
    "outputId": "7c84dec8-18ce-405a-ef05-ebd927d38ba0"
   },
   "outputs": [
    {
     "data": {
      "text/plain": [
       "['azerty', 12, 12.0, False, 6778, 'djk']"
      ]
     },
     "execution_count": 54,
     "metadata": {},
     "output_type": "execute_result"
    }
   ],
   "source": [
    "une_liste"
   ]
  },
  {
   "cell_type": "code",
   "execution_count": null,
   "metadata": {
    "colab": {
     "base_uri": "https://localhost:8080/",
     "height": 35
    },
    "executionInfo": {
     "elapsed": 447,
     "status": "ok",
     "timestamp": 1634566123279,
     "user": {
      "displayName": "Yacine ASLIMI",
      "photoUrl": "https://lh3.googleusercontent.com/a/default-user=s64",
      "userId": "17203730376393528118"
     },
     "user_tz": -120
    },
    "id": "dCVNh26jub2J",
    "outputId": "2a780ad5-c4d1-44e9-c87a-b8d9921117f1"
   },
   "outputs": [
    {
     "data": {
      "application/vnd.google.colaboratory.intrinsic+json": {
       "type": "string"
      },
      "text/plain": [
       "'djk'"
      ]
     },
     "execution_count": 55,
     "metadata": {},
     "output_type": "execute_result"
    }
   ],
   "source": [
    "une_liste[-1] #### dernier élement en partant de la fin"
   ]
  },
  {
   "cell_type": "code",
   "execution_count": null,
   "metadata": {
    "colab": {
     "base_uri": "https://localhost:8080/"
    },
    "executionInfo": {
     "elapsed": 492,
     "status": "ok",
     "timestamp": 1634566159314,
     "user": {
      "displayName": "Yacine ASLIMI",
      "photoUrl": "https://lh3.googleusercontent.com/a/default-user=s64",
      "userId": "17203730376393528118"
     },
     "user_tz": -120
    },
    "id": "QHfvev19vAI8",
    "outputId": "bbece66a-3b94-4e51-a86c-bcd67a285d7e"
   },
   "outputs": [
    {
     "data": {
      "text/plain": [
       "False"
      ]
     },
     "execution_count": 56,
     "metadata": {},
     "output_type": "execute_result"
    }
   ],
   "source": [
    "une_liste[-3]"
   ]
  },
  {
   "cell_type": "code",
   "execution_count": null,
   "metadata": {
    "id": "M15G9Sy_d4go",
    "outputId": "26eaad8a-3de7-46ea-b52d-376ae067b2b0",
    "run_control": {
     "frozen": false,
     "read_only": false
    }
   },
   "outputs": [
    {
     "data": {
      "text/plain": [
       "[2.0, 'aa', 0.2]"
      ]
     },
     "execution_count": 10,
     "metadata": {
      "tags": []
     },
     "output_type": "execute_result"
    }
   ],
   "source": [
    "a_list = [2.,'aa', 0.2]\n",
    "a_list"
   ]
  },
  {
   "cell_type": "code",
   "execution_count": null,
   "metadata": {
    "id": "XuxdFXM5d4gq",
    "outputId": "c7a0428c-4254-4315-8cee-83093907c14d",
    "run_control": {
     "frozen": false,
     "read_only": false
    }
   },
   "outputs": [
    {
     "data": {
      "text/plain": [
       "'aa'"
      ]
     },
     "execution_count": 11,
     "metadata": {
      "tags": []
     },
     "output_type": "execute_result"
    }
   ],
   "source": [
    "# accessing individual object in the list\n",
    "a_list[1]"
   ]
  },
  {
   "cell_type": "code",
   "execution_count": null,
   "metadata": {
    "id": "sB8tnHXBd4gs",
    "outputId": "a9596e79-c3e9-45d8-80ed-551ba4e128c3",
    "run_control": {
     "frozen": false,
     "read_only": false
    }
   },
   "outputs": [
    {
     "data": {
      "text/plain": [
       "0.2"
      ]
     },
     "execution_count": 12,
     "metadata": {
      "tags": []
     },
     "output_type": "execute_result"
    }
   ],
   "source": [
    "# negative indices are used to count from the back\n",
    "a_list[-1]"
   ]
  },
  {
   "cell_type": "markdown",
   "metadata": {
    "id": "4Rpy8pMpd4gs"
   },
   "source": [
    "**Slicing**: obtaining sublists of regularly-spaced elements"
   ]
  },
  {
   "cell_type": "code",
   "execution_count": null,
   "metadata": {
    "id": "pCy0KFAqd4gt",
    "run_control": {
     "frozen": false,
     "read_only": false
    }
   },
   "outputs": [],
   "source": [
    "another_list = ['first', 'second', 'third', 'fourth', 'fifth']"
   ]
  },
  {
   "cell_type": "code",
   "execution_count": null,
   "metadata": {
    "colab": {
     "base_uri": "https://localhost:8080/"
    },
    "executionInfo": {
     "elapsed": 368,
     "status": "ok",
     "timestamp": 1634566352623,
     "user": {
      "displayName": "Yacine ASLIMI",
      "photoUrl": "https://lh3.googleusercontent.com/a/default-user=s64",
      "userId": "17203730376393528118"
     },
     "user_tz": -120
    },
    "id": "IBbu2lV6vfeP",
    "outputId": "534c981c-1c2c-4fd6-a859-8a7039b0fcd2"
   },
   "outputs": [
    {
     "name": "stdout",
     "output_type": "stream",
     "text": [
      "['fourth', 'fifth']\n"
     ]
    }
   ],
   "source": [
    "print(another_list[3:]) #### Tout les élement de l'index 3 (fourth) à la fin"
   ]
  },
  {
   "cell_type": "code",
   "execution_count": null,
   "metadata": {
    "colab": {
     "base_uri": "https://localhost:8080/"
    },
    "executionInfo": {
     "elapsed": 326,
     "status": "ok",
     "timestamp": 1634566412291,
     "user": {
      "displayName": "Yacine ASLIMI",
      "photoUrl": "https://lh3.googleusercontent.com/a/default-user=s64",
      "userId": "17203730376393528118"
     },
     "user_tz": -120
    },
    "id": "6yZ44O7Qv1b7",
    "outputId": "a159f43e-3a33-479c-9d5a-928886e3eb0c"
   },
   "outputs": [
    {
     "name": "stdout",
     "output_type": "stream",
     "text": [
      "['first', 'second']\n"
     ]
    }
   ],
   "source": [
    "print(another_list[:2]) #### On récupére tout les élement de 0 à l'index 2 (index 2 exclu)"
   ]
  },
  {
   "cell_type": "code",
   "execution_count": null,
   "metadata": {
    "colab": {
     "base_uri": "https://localhost:8080/"
    },
    "executionInfo": {
     "elapsed": 471,
     "status": "ok",
     "timestamp": 1634566510840,
     "user": {
      "displayName": "Yacine ASLIMI",
      "photoUrl": "https://lh3.googleusercontent.com/a/default-user=s64",
      "userId": "17203730376393528118"
     },
     "user_tz": -120
    },
    "id": "Is_u_3dQwWf0",
    "outputId": "b1200b7a-d373-407d-9787-7ba161c60688"
   },
   "outputs": [
    {
     "data": {
      "text/plain": [
       "['first', 'second', 'third', 'fourth', 'fifth']"
      ]
     },
     "execution_count": 61,
     "metadata": {},
     "output_type": "execute_result"
    }
   ],
   "source": [
    "another_list"
   ]
  },
  {
   "cell_type": "code",
   "execution_count": null,
   "metadata": {
    "colab": {
     "base_uri": "https://localhost:8080/"
    },
    "executionInfo": {
     "elapsed": 462,
     "status": "ok",
     "timestamp": 1634566544923,
     "user": {
      "displayName": "Yacine ASLIMI",
      "photoUrl": "https://lh3.googleusercontent.com/a/default-user=s64",
      "userId": "17203730376393528118"
     },
     "user_tz": -120
    },
    "id": "XXrohnLGwPTc",
    "outputId": "8b9726c1-6821-409a-dd88-7b4bb3442978"
   },
   "outputs": [
    {
     "name": "stdout",
     "output_type": "stream",
     "text": [
      "['first', 'third', 'fifth']\n"
     ]
    }
   ],
   "source": [
    "print(another_list[::2]) #### On récupéère les élements 2 à 2 (pas de 2)"
   ]
  },
  {
   "cell_type": "code",
   "execution_count": null,
   "metadata": {
    "colab": {
     "base_uri": "https://localhost:8080/"
    },
    "executionInfo": {
     "elapsed": 378,
     "status": "ok",
     "timestamp": 1634566598762,
     "user": {
      "displayName": "Yacine ASLIMI",
      "photoUrl": "https://lh3.googleusercontent.com/a/default-user=s64",
      "userId": "17203730376393528118"
     },
     "user_tz": -120
    },
    "id": "O7Z2OXJGwoI3",
    "outputId": "fee2f96b-bf93-4a18-f05d-ec2ced284da6"
   },
   "outputs": [
    {
     "name": "stdout",
     "output_type": "stream",
     "text": [
      "['first', 'fourth']\n"
     ]
    }
   ],
   "source": [
    "print(another_list[::3])"
   ]
  },
  {
   "cell_type": "markdown",
   "metadata": {
    "id": "_ObDikzEd4gu"
   },
   "source": [
    "* Note that L[start:stop] contains the elements with indices i such as start<= i < stop \n",
    "* (i ranging from start to stop-1). Therefore, L[start:stop] has (stop-start) elements.\n",
    "* Slicing syntax: L[start:stop:stride]\n",
    "* all slicing parameters are optional"
   ]
  },
  {
   "cell_type": "markdown",
   "metadata": {
    "id": "Z9bg7fIOd4gv"
   },
   "source": [
    "Lists are *mutable* objects and can be modified"
   ]
  },
  {
   "cell_type": "code",
   "execution_count": null,
   "metadata": {
    "colab": {
     "base_uri": "https://localhost:8080/"
    },
    "executionInfo": {
     "elapsed": 326,
     "status": "ok",
     "timestamp": 1634566646817,
     "user": {
      "displayName": "Yacine ASLIMI",
      "photoUrl": "https://lh3.googleusercontent.com/a/default-user=s64",
      "userId": "17203730376393528118"
     },
     "user_tz": -120
    },
    "id": "OV1V-nZDd4hf",
    "outputId": "a1933f66-dca7-41dd-b803-415def65be5a",
    "run_control": {
     "frozen": false,
     "read_only": false
    }
   },
   "outputs": [
    {
     "name": "stdout",
     "output_type": "stream",
     "text": [
      "['first', 'second', 'third', 'newFourth', 'fifth']\n"
     ]
    }
   ],
   "source": [
    "another_list[3] = 'newFourth'\n",
    "print(another_list)\n"
   ]
  },
  {
   "cell_type": "code",
   "execution_count": null,
   "metadata": {
    "colab": {
     "base_uri": "https://localhost:8080/"
    },
    "executionInfo": {
     "elapsed": 398,
     "status": "ok",
     "timestamp": 1634566752997,
     "user": {
      "displayName": "Yacine ASLIMI",
      "photoUrl": "https://lh3.googleusercontent.com/a/default-user=s64",
      "userId": "17203730376393528118"
     },
     "user_tz": -120
    },
    "id": "7FuDzPx3w-iX",
    "outputId": "623b517d-d6a4-4aea-c759-a8bf9b0cb3ca"
   },
   "outputs": [
    {
     "name": "stdout",
     "output_type": "stream",
     "text": [
      "['first', 'newSecond', 'newThird', 'newFourth', 'fifth']\n"
     ]
    }
   ],
   "source": [
    "another_list[1:3] = ['newSecond', 'newThird']\n",
    "print(another_list) ### Changer les valeurs de l'objet liste (ici index 1 et index 2) - Index 3 non pris en compte"
   ]
  },
  {
   "cell_type": "markdown",
   "metadata": {
    "id": "tbws0bmld4hi"
   },
   "source": [
    "Warning, with views equal to each other, they point to the same point in memory. Changing one of them is also changing the other!!"
   ]
  },
  {
   "cell_type": "code",
   "execution_count": null,
   "metadata": {
    "id": "aj9L-jmvd4hx",
    "outputId": "87a95ae6-c229-47f4-d122-84b5057d39c2",
    "run_control": {
     "frozen": false,
     "read_only": false
    }
   },
   "outputs": [
    {
     "name": "stdout",
     "output_type": "stream",
     "text": [
      "[1, 'b']\n"
     ]
    }
   ],
   "source": [
    "a = ['a',  'b']\n",
    "b = a\n",
    "b[0] = 1\n",
    "print(a)"
   ]
  },
  {
   "cell_type": "markdown",
   "metadata": {
    "id": "F0zO-ncyd4h3"
   },
   "source": [
    "**List methods**:"
   ]
  },
  {
   "cell_type": "markdown",
   "metadata": {
    "id": "nCvCIldxd4h7"
   },
   "source": [
    "You can always list the available methods in the namespace by using the dir()-command:"
   ]
  },
  {
   "cell_type": "code",
   "execution_count": null,
   "metadata": {
    "id": "mg1wHmIPd4h7",
    "run_control": {
     "frozen": false,
     "read_only": false
    }
   },
   "outputs": [],
   "source": [
    "#dir(list)"
   ]
  },
  {
   "cell_type": "code",
   "execution_count": 1,
   "metadata": {
    "executionInfo": {
     "elapsed": 849,
     "status": "ok",
     "timestamp": 1635163998712,
     "user": {
      "displayName": "Yacine ASLIMI",
      "photoUrl": "https://lh3.googleusercontent.com/a/default-user=s64",
      "userId": "17203730376393528118"
     },
     "user_tz": -120
    },
    "id": "iyeD6c4fd4h8",
    "run_control": {
     "frozen": false,
     "read_only": false
    }
   },
   "outputs": [],
   "source": [
    "a_third_list = ['red', 'blue', 'green', 'black', 'white']"
   ]
  },
  {
   "cell_type": "code",
   "execution_count": 2,
   "metadata": {
    "colab": {
     "base_uri": "https://localhost:8080/"
    },
    "executionInfo": {
     "elapsed": 36,
     "status": "ok",
     "timestamp": 1635163998714,
     "user": {
      "displayName": "Yacine ASLIMI",
      "photoUrl": "https://lh3.googleusercontent.com/a/default-user=s64",
      "userId": "17203730376393528118"
     },
     "user_tz": -120
    },
    "id": "Ks0XOWd2d4h9",
    "outputId": "78c288f8-8221-4f8f-f04d-4a2330a79f8b",
    "run_control": {
     "frozen": false,
     "read_only": false
    }
   },
   "outputs": [
    {
     "data": {
      "text/plain": [
       "['red', 'blue', 'green', 'black', 'white', 'pink']"
      ]
     },
     "execution_count": 2,
     "metadata": {},
     "output_type": "execute_result"
    }
   ],
   "source": [
    "# Appending\n",
    "a_third_list.append('pink') #### Ajouter l'élement 'pink à la liste (fin de la liste)\n",
    "a_third_list"
   ]
  },
  {
   "cell_type": "code",
   "execution_count": 3,
   "metadata": {
    "colab": {
     "base_uri": "https://localhost:8080/"
    },
    "executionInfo": {
     "elapsed": 24,
     "status": "ok",
     "timestamp": 1635163998715,
     "user": {
      "displayName": "Yacine ASLIMI",
      "photoUrl": "https://lh3.googleusercontent.com/a/default-user=s64",
      "userId": "17203730376393528118"
     },
     "user_tz": -120
    },
    "id": "D8IswEWLd4h-",
    "outputId": "5aa96d07-0171-435f-af1b-c1b291483b1a",
    "run_control": {
     "frozen": false,
     "read_only": false
    }
   },
   "outputs": [
    {
     "data": {
      "text/plain": [
       "['red', 'blue', 'green', 'black', 'white']"
      ]
     },
     "execution_count": 3,
     "metadata": {},
     "output_type": "execute_result"
    }
   ],
   "source": [
    "# Removes and returns the last element\n",
    "a_third_list.pop()\n",
    "a_third_list"
   ]
  },
  {
   "cell_type": "code",
   "execution_count": null,
   "metadata": {
    "colab": {
     "base_uri": "https://localhost:8080/",
     "height": 183
    },
    "executionInfo": {
     "elapsed": 317,
     "status": "error",
     "timestamp": 1634567348301,
     "user": {
      "displayName": "Yacine ASLIMI",
      "photoUrl": "https://lh3.googleusercontent.com/a/default-user=s64",
      "userId": "17203730376393528118"
     },
     "user_tz": -120
    },
    "id": "H4peAFx3zGNp",
    "outputId": "c867ee6d-8b28-4e0e-a3bc-491c161249b4"
   },
   "outputs": [
    {
     "ename": "TypeError",
     "evalue": "ignored",
     "output_type": "error",
     "traceback": [
      "\u001b[0;31m---------------------------------------------------------------------------\u001b[0m",
      "\u001b[0;31mTypeError\u001b[0m                                 Traceback (most recent call last)",
      "\u001b[0;32m<ipython-input-88-66ec01560494>\u001b[0m in \u001b[0;36m<module>\u001b[0;34m()\u001b[0m\n\u001b[0;32m----> 1\u001b[0;31m \u001b[0ma_third_list\u001b[0m\u001b[0;34m.\u001b[0m\u001b[0mremove\u001b[0m\u001b[0;34m(\u001b[0m\u001b[0;34m)\u001b[0m\u001b[0;34m\u001b[0m\u001b[0;34m\u001b[0m\u001b[0m\n\u001b[0m\u001b[1;32m      2\u001b[0m \u001b[0ma_third_list\u001b[0m\u001b[0;34m\u001b[0m\u001b[0;34m\u001b[0m\u001b[0m\n",
      "\u001b[0;31mTypeError\u001b[0m: remove() takes exactly one argument (0 given)"
     ]
    }
   ],
   "source": [
    "a_third_list.remove()\n",
    "a_third_list"
   ]
  },
  {
   "cell_type": "code",
   "execution_count": null,
   "metadata": {
    "colab": {
     "base_uri": "https://localhost:8080/"
    },
    "executionInfo": {
     "elapsed": 367,
     "status": "ok",
     "timestamp": 1634567615054,
     "user": {
      "displayName": "Yacine ASLIMI",
      "photoUrl": "https://lh3.googleusercontent.com/a/default-user=s64",
      "userId": "17203730376393528118"
     },
     "user_tz": -120
    },
    "id": "E8fiZ2O9d4iA",
    "outputId": "b918411b-5738-4380-8ef9-910216383df2",
    "run_control": {
     "frozen": false,
     "read_only": false
    }
   },
   "outputs": [
    {
     "data": {
      "text/plain": [
       "['green',\n",
       " 'black',\n",
       " 'white',\n",
       " 'pink',\n",
       " 'purple',\n",
       " 'pink',\n",
       " 'purple',\n",
       " 'pink',\n",
       " 'purple',\n",
       " 'pink',\n",
       " 'purple',\n",
       " 'pink',\n",
       " 'purple']"
      ]
     },
     "execution_count": 94,
     "metadata": {},
     "output_type": "execute_result"
    }
   ],
   "source": [
    "# Extends the list in-place\n",
    "a_third_list.extend(['pink', 'purple'])\n",
    "a_third_list"
   ]
  },
  {
   "cell_type": "code",
   "execution_count": null,
   "metadata": {
    "colab": {
     "base_uri": "https://localhost:8080/"
    },
    "executionInfo": {
     "elapsed": 424,
     "status": "ok",
     "timestamp": 1634567618066,
     "user": {
      "displayName": "Yacine ASLIMI",
      "photoUrl": "https://lh3.googleusercontent.com/a/default-user=s64",
      "userId": "17203730376393528118"
     },
     "user_tz": -120
    },
    "id": "TE2YCkm00dFc",
    "outputId": "0f25bc48-d5b0-47aa-c276-75791f649882"
   },
   "outputs": [
    {
     "data": {
      "text/plain": [
       "13"
      ]
     },
     "execution_count": 95,
     "metadata": {},
     "output_type": "execute_result"
    }
   ],
   "source": [
    "len(a_third_list)"
   ]
  },
  {
   "cell_type": "code",
   "execution_count": null,
   "metadata": {
    "colab": {
     "base_uri": "https://localhost:8080/"
    },
    "executionInfo": {
     "elapsed": 292,
     "status": "ok",
     "timestamp": 1634567698760,
     "user": {
      "displayName": "Yacine ASLIMI",
      "photoUrl": "https://lh3.googleusercontent.com/a/default-user=s64",
      "userId": "17203730376393528118"
     },
     "user_tz": -120
    },
    "id": "adlsxdAg0t0b",
    "outputId": "36da0aba-d681-4a05-b8c8-2e7d3006b470"
   },
   "outputs": [
    {
     "data": {
      "text/plain": [
       "['green',\n",
       " 'black',\n",
       " 'white',\n",
       " 'pink',\n",
       " 'purple',\n",
       " 'pink',\n",
       " 'purple',\n",
       " 'pink',\n",
       " 'purple',\n",
       " 'pink',\n",
       " 'purple',\n",
       " 'pink',\n",
       " 'purple',\n",
       " 'yellow',\n",
       " 'gray',\n",
       " 'orange']"
      ]
     },
     "execution_count": 96,
     "metadata": {},
     "output_type": "execute_result"
    }
   ],
   "source": [
    "a_fourth_list = [\"yellow\", \"gray\", \"orange\"]\n",
    "a_third_list.extend(a_fourth_list)\n",
    "a_third_list"
   ]
  },
  {
   "cell_type": "code",
   "execution_count": 4,
   "metadata": {
    "colab": {
     "base_uri": "https://localhost:8080/"
    },
    "executionInfo": {
     "elapsed": 510,
     "status": "ok",
     "timestamp": 1635164022180,
     "user": {
      "displayName": "Yacine ASLIMI",
      "photoUrl": "https://lh3.googleusercontent.com/a/default-user=s64",
      "userId": "17203730376393528118"
     },
     "user_tz": -120
    },
    "id": "V3_7GZBpd4iB",
    "outputId": "0fe952d7-e2b7-43fe-9b04-58f814608211",
    "run_control": {
     "frozen": false,
     "read_only": false
    }
   },
   "outputs": [
    {
     "data": {
      "text/plain": [
       "['white', 'black', 'green', 'blue', 'red']"
      ]
     },
     "execution_count": 4,
     "metadata": {},
     "output_type": "execute_result"
    }
   ],
   "source": [
    "# Reverse the list\n",
    "a_third_list.reverse()\n",
    "a_third_list"
   ]
  },
  {
   "cell_type": "code",
   "execution_count": null,
   "metadata": {
    "colab": {
     "base_uri": "https://localhost:8080/",
     "height": 201
    },
    "executionInfo": {
     "elapsed": 319,
     "status": "error",
     "timestamp": 1634567815168,
     "user": {
      "displayName": "Yacine ASLIMI",
      "photoUrl": "https://lh3.googleusercontent.com/a/default-user=s64",
      "userId": "17203730376393528118"
     },
     "user_tz": -120
    },
    "id": "AT6VYGCYd4iC",
    "outputId": "1604b40c-1b68-4d8d-eb70-0af7c02486e2",
    "run_control": {
     "frozen": false,
     "read_only": false
    }
   },
   "outputs": [
    {
     "ename": "ValueError",
     "evalue": "ignored",
     "output_type": "error",
     "traceback": [
      "\u001b[0;31m---------------------------------------------------------------------------\u001b[0m",
      "\u001b[0;31mValueError\u001b[0m                                Traceback (most recent call last)",
      "\u001b[0;32m<ipython-input-99-2e307782340b>\u001b[0m in \u001b[0;36m<module>\u001b[0;34m()\u001b[0m\n\u001b[1;32m      1\u001b[0m \u001b[0;31m# Remove the first occurence of an element\u001b[0m\u001b[0;34m\u001b[0m\u001b[0;34m\u001b[0m\u001b[0;34m\u001b[0m\u001b[0m\n\u001b[0;32m----> 2\u001b[0;31m \u001b[0ma_third_list\u001b[0m\u001b[0;34m.\u001b[0m\u001b[0mremove\u001b[0m\u001b[0;34m(\u001b[0m\u001b[0;34m'white'\u001b[0m\u001b[0;34m)\u001b[0m\u001b[0;34m\u001b[0m\u001b[0;34m\u001b[0m\u001b[0m\n\u001b[0m\u001b[1;32m      3\u001b[0m \u001b[0ma_third_list\u001b[0m\u001b[0;34m\u001b[0m\u001b[0;34m\u001b[0m\u001b[0m\n",
      "\u001b[0;31mValueError\u001b[0m: list.remove(x): x not in list"
     ]
    }
   ],
   "source": [
    "# Remove the first occurence of an element\n",
    "a_third_list.remove('white')\n",
    "a_third_list"
   ]
  },
  {
   "cell_type": "code",
   "execution_count": 5,
   "metadata": {
    "colab": {
     "base_uri": "https://localhost:8080/"
    },
    "executionInfo": {
     "elapsed": 398,
     "status": "ok",
     "timestamp": 1635164029342,
     "user": {
      "displayName": "Yacine ASLIMI",
      "photoUrl": "https://lh3.googleusercontent.com/a/default-user=s64",
      "userId": "17203730376393528118"
     },
     "user_tz": -120
    },
    "id": "X_D3gyWkd4iD",
    "outputId": "13bb2bb6-a127-45e6-eaee-cb11f74327ee",
    "run_control": {
     "frozen": false,
     "read_only": false
    }
   },
   "outputs": [
    {
     "data": {
      "text/plain": [
       "['black', 'blue', 'green', 'red', 'white']"
      ]
     },
     "execution_count": 5,
     "metadata": {},
     "output_type": "execute_result"
    }
   ],
   "source": [
    "# Sort list\n",
    "a_third_list.sort()\n",
    "a_third_list"
   ]
  },
  {
   "cell_type": "markdown",
   "metadata": {
    "id": "B788Epxnd4iD"
   },
   "source": [
    "------------"
   ]
  },
  {
   "cell_type": "markdown",
   "metadata": {
    "id": "2pZGgDE3d4iE"
   },
   "source": [
    "<div class=\"alert alert-success\">\n",
    "    <b>EXERCISE</b>: What happens if you put two question marks behind the command?\n",
    "</div>"
   ]
  },
  {
   "cell_type": "code",
   "execution_count": null,
   "metadata": {
    "id": "Uqp3nov7d4iE"
   },
   "outputs": [],
   "source": []
  },
  {
   "cell_type": "markdown",
   "metadata": {
    "id": "sBFU6fsfd4iE"
   },
   "source": [
    "------------"
   ]
  },
  {
   "cell_type": "code",
   "execution_count": null,
   "metadata": {
    "id": "LCt0MbL-d4iF",
    "run_control": {
     "frozen": false,
     "read_only": false
    }
   },
   "outputs": [],
   "source": [
    "a_third_list = ['red', 'blue', 'green', 'black', 'white']"
   ]
  },
  {
   "cell_type": "code",
   "execution_count": null,
   "metadata": {
    "id": "otsfb6mMd4iG",
    "outputId": "4d08c7c2-3104-44c5-d9cf-6a5d40498d2a",
    "run_control": {
     "frozen": false,
     "read_only": false
    }
   },
   "outputs": [
    {
     "data": {
      "text/plain": [
       "['red', 'blue', 'green']"
      ]
     },
     "execution_count": 30,
     "metadata": {
      "tags": []
     },
     "output_type": "execute_result"
    }
   ],
   "source": [
    "# remove the last two elements\n",
    "a_third_list = a_third_list[:-2]\n",
    "a_third_list"
   ]
  },
  {
   "cell_type": "markdown",
   "metadata": {
    "id": "_wQwqhMzd4iH"
   },
   "source": [
    "<div class=\"alert alert-success\">\n",
    "    <b>EXERCISE</b>: Try to code your own  *reverse* command using the appropriate slicing command:\n",
    "</div>"
   ]
  },
  {
   "cell_type": "code",
   "execution_count": null,
   "metadata": {
    "id": "xHdFT4k-d4iH"
   },
   "outputs": [],
   "source": [
    "a_third_list = ['red', 'blue', 'green', 'black', 'white']\n"
   ]
  },
  {
   "cell_type": "code",
   "execution_count": 6,
   "metadata": {
    "colab": {
     "base_uri": "https://localhost:8080/"
    },
    "executionInfo": {
     "elapsed": 286,
     "status": "ok",
     "timestamp": 1635164074300,
     "user": {
      "displayName": "Yacine ASLIMI",
      "photoUrl": "https://lh3.googleusercontent.com/a/default-user=s64",
      "userId": "17203730376393528118"
     },
     "user_tz": -120
    },
    "id": "MQTfj-uQX1Xv",
    "outputId": "aec00bfa-0fd6-4f08-9a51-36b7bae6c842"
   },
   "outputs": [
    {
     "data": {
      "text/plain": [
       "['white', 'red', 'green', 'blue', 'black']"
      ]
     },
     "execution_count": 6,
     "metadata": {},
     "output_type": "execute_result"
    }
   ],
   "source": [
    "a_third_list.reverse()\n",
    "a_third_list"
   ]
  },
  {
   "cell_type": "code",
   "execution_count": 7,
   "metadata": {
    "colab": {
     "base_uri": "https://localhost:8080/"
    },
    "executionInfo": {
     "elapsed": 270,
     "status": "ok",
     "timestamp": 1635164088729,
     "user": {
      "displayName": "Yacine ASLIMI",
      "photoUrl": "https://lh3.googleusercontent.com/a/default-user=s64",
      "userId": "17203730376393528118"
     },
     "user_tz": -120
    },
    "id": "dMeFKzFQX788",
    "outputId": "efd01af9-9220-4c33-c0f4-95dc4c10be85"
   },
   "outputs": [
    {
     "data": {
      "text/plain": [
       "['black', 'blue', 'green', 'red', 'white']"
      ]
     },
     "execution_count": 7,
     "metadata": {},
     "output_type": "execute_result"
    }
   ],
   "source": [
    "a_third_list[::-1]"
   ]
  },
  {
   "cell_type": "markdown",
   "metadata": {
    "id": "k4RDfdJkd4iI"
   },
   "source": [
    "------------"
   ]
  },
  {
   "cell_type": "markdown",
   "metadata": {
    "id": "kiL4kIUBd4iI"
   },
   "source": [
    "Concatenating lists is just the same as summing both lists:"
   ]
  },
  {
   "cell_type": "code",
   "execution_count": null,
   "metadata": {
    "id": "FGiEIcTud4iI",
    "run_control": {
     "frozen": false,
     "read_only": false
    }
   },
   "outputs": [],
   "source": [
    "a_list = ['pink', 'orange']\n",
    "a_concatenated_list = a_third_list + a_list\n",
    "a_concatenated_list"
   ]
  },
  {
   "cell_type": "markdown",
   "metadata": {
    "id": "0hH29e5_d4iJ"
   },
   "source": [
    "<div class=\"alert alert alert-danger\">\n",
    "    <b>Note</b>: Why is the following not working?\n",
    "</div>"
   ]
  },
  {
   "cell_type": "code",
   "execution_count": null,
   "metadata": {
    "id": "W1N3pzLud4iJ",
    "run_control": {
     "frozen": false,
     "read_only": false
    }
   },
   "outputs": [],
   "source": [
    "reverted = a_third_list.reverse()\n",
    "## comment out the next lines to test the error:\n",
    "#a_concatenated_list = a_third_list + reverted\n",
    "#a_concatenated_list"
   ]
  },
  {
   "cell_type": "markdown",
   "metadata": {
    "id": "W3Lfky65d4iK"
   },
   "source": [
    "The list itself is reversed and no output is returned, so reverted is None, which can not be added to a list\n",
    "\n",
    "------------"
   ]
  },
  {
   "cell_type": "code",
   "execution_count": null,
   "metadata": {
    "id": "XQS6-Bggd4iK",
    "run_control": {
     "frozen": false,
     "read_only": false
    }
   },
   "outputs": [],
   "source": [
    "# Repeating lists\n",
    "a_repeated_list = a_concatenated_list*10\n",
    "print(a_repeated_list)"
   ]
  },
  {
   "cell_type": "markdown",
   "metadata": {
    "id": "_XNI3e6Xd4iL"
   },
   "source": [
    "**List comprehensions**\n",
    "\n",
    "List comprehensions are a very powerful functionality. It creates an in-list for-loop option, looping through all the elements of a list and doing an action on it, in a single, readable line."
   ]
  },
  {
   "cell_type": "code",
   "execution_count": 9,
   "metadata": {
    "colab": {
     "base_uri": "https://localhost:8080/"
    },
    "executionInfo": {
     "elapsed": 223,
     "status": "ok",
     "timestamp": 1635164212278,
     "user": {
      "displayName": "Yacine ASLIMI",
      "photoUrl": "https://lh3.googleusercontent.com/a/default-user=s64",
      "userId": "17203730376393528118"
     },
     "user_tz": -120
    },
    "id": "4yL9JsiaYQEu",
    "outputId": "38266b70-3dfe-4b85-8662-a9ecfe6f6dc5"
   },
   "outputs": [
    {
     "name": "stdout",
     "output_type": "stream",
     "text": [
      "1\n",
      "2\n",
      "3\n",
      "4\n"
     ]
    }
   ],
   "source": [
    "number_list = [1, 2, 3, 4]\n",
    "\n",
    "#### Type 1: Iterer par élement\n",
    "\n",
    "for ele in number_list: #### POur chaque element de l'objet\n",
    "  print(ele) #### J'affiche l'element"
   ]
  },
  {
   "cell_type": "code",
   "execution_count": 15,
   "metadata": {
    "executionInfo": {
     "elapsed": 267,
     "status": "ok",
     "timestamp": 1635164602338,
     "user": {
      "displayName": "Yacine ASLIMI",
      "photoUrl": "https://lh3.googleusercontent.com/a/default-user=s64",
      "userId": "17203730376393528118"
     },
     "user_tz": -120
    },
    "id": "ZZSY1Xd0Z68g"
   },
   "outputs": [],
   "source": [
    "number_list = [1, 2, 3, 4]"
   ]
  },
  {
   "cell_type": "code",
   "execution_count": 16,
   "metadata": {
    "executionInfo": {
     "elapsed": 242,
     "status": "ok",
     "timestamp": 1635164604009,
     "user": {
      "displayName": "Yacine ASLIMI",
      "photoUrl": "https://lh3.googleusercontent.com/a/default-user=s64",
      "userId": "17203730376393528118"
     },
     "user_tz": -120
    },
    "id": "-wnfLodHYlzh"
   },
   "outputs": [],
   "source": [
    "#### Type 2: range et d'index\n",
    "\n",
    "a = []\n",
    "for i in range(0, len(number_list)):\n",
    "  #print(i) ### Afficher l'index de chaque élemeny dans l'objet number_list\n",
    "  a.append(i) #### Ajoute à la lsite a l'objet i"
   ]
  },
  {
   "cell_type": "code",
   "execution_count": 12,
   "metadata": {
    "colab": {
     "base_uri": "https://localhost:8080/"
    },
    "executionInfo": {
     "elapsed": 240,
     "status": "ok",
     "timestamp": 1635164426970,
     "user": {
      "displayName": "Yacine ASLIMI",
      "photoUrl": "https://lh3.googleusercontent.com/a/default-user=s64",
      "userId": "17203730376393528118"
     },
     "user_tz": -120
    },
    "id": "j-PoQv15ZQfY",
    "outputId": "0cdf4f25-b4b2-4e5d-d645-cb6155abaf5c"
   },
   "outputs": [
    {
     "data": {
      "text/plain": [
       "[0, 1, 2, 3]"
      ]
     },
     "execution_count": 12,
     "metadata": {},
     "output_type": "execute_result"
    }
   ],
   "source": [
    "a"
   ]
  },
  {
   "cell_type": "code",
   "execution_count": 13,
   "metadata": {
    "colab": {
     "base_uri": "https://localhost:8080/"
    },
    "executionInfo": {
     "elapsed": 233,
     "status": "ok",
     "timestamp": 1635164474911,
     "user": {
      "displayName": "Yacine ASLIMI",
      "photoUrl": "https://lh3.googleusercontent.com/a/default-user=s64",
      "userId": "17203730376393528118"
     },
     "user_tz": -120
    },
    "id": "fobKp_GHZCF-",
    "outputId": "7494aa89-5acf-4ca0-b913-471c93f45e99"
   },
   "outputs": [
    {
     "data": {
      "text/plain": [
       "[1, 2, 3, 4]"
      ]
     },
     "execution_count": 13,
     "metadata": {},
     "output_type": "execute_result"
    }
   ],
   "source": [
    "number_list"
   ]
  },
  {
   "cell_type": "code",
   "execution_count": 17,
   "metadata": {
    "colab": {
     "base_uri": "https://localhost:8080/"
    },
    "executionInfo": {
     "elapsed": 290,
     "status": "ok",
     "timestamp": 1635164699909,
     "user": {
      "displayName": "Yacine ASLIMI",
      "photoUrl": "https://lh3.googleusercontent.com/a/default-user=s64",
      "userId": "17203730376393528118"
     },
     "user_tz": -120
    },
    "id": "NH-GGqsod4iM",
    "outputId": "b8a62192-4548-4a96-f721-c01dad3b1a86",
    "run_control": {
     "frozen": false,
     "read_only": false
    }
   },
   "outputs": [
    {
     "data": {
      "text/plain": [
       "[1, 4, 9, 16]"
      ]
     },
     "execution_count": 17,
     "metadata": {},
     "output_type": "execute_result"
    }
   ],
   "source": [
    "### liste de comprehesion\n",
    "\n",
    "[herve**2 for herve in number_list] ##### [sortie iteration] ie j'affiche i**2 pour chaque élement de l'objet"
   ]
  },
  {
   "cell_type": "code",
   "execution_count": 18,
   "metadata": {
    "executionInfo": {
     "elapsed": 276,
     "status": "ok",
     "timestamp": 1635164815633,
     "user": {
      "displayName": "Yacine ASLIMI",
      "photoUrl": "https://lh3.googleusercontent.com/a/default-user=s64",
      "userId": "17203730376393528118"
     },
     "user_tz": -120
    },
    "id": "gNjqN6CxaZTX"
   },
   "outputs": [],
   "source": [
    "number_list = [1, 2, 3, 4]\n",
    "li = []\n",
    "\n",
    "for ele in number_list: #### Pour chaque élement de l'objet\n",
    "  li.append(ele**2)  #### J'affiche l'élement au carré que je place dans la liste li"
   ]
  },
  {
   "cell_type": "code",
   "execution_count": 19,
   "metadata": {
    "colab": {
     "base_uri": "https://localhost:8080/"
    },
    "executionInfo": {
     "elapsed": 254,
     "status": "ok",
     "timestamp": 1635164827433,
     "user": {
      "displayName": "Yacine ASLIMI",
      "photoUrl": "https://lh3.googleusercontent.com/a/default-user=s64",
      "userId": "17203730376393528118"
     },
     "user_tz": -120
    },
    "id": "Gai0BbSAayLq",
    "outputId": "3e6acb50-3abf-4038-b81c-2b726bd288b0"
   },
   "outputs": [
    {
     "data": {
      "text/plain": [
       "[1, 4, 9, 16]"
      ]
     },
     "execution_count": 19,
     "metadata": {},
     "output_type": "execute_result"
    }
   ],
   "source": [
    "li"
   ]
  },
  {
   "cell_type": "code",
   "execution_count": 20,
   "metadata": {
    "colab": {
     "base_uri": "https://localhost:8080/"
    },
    "executionInfo": {
     "elapsed": 7759,
     "status": "ok",
     "timestamp": 1635164879353,
     "user": {
      "displayName": "Yacine ASLIMI",
      "photoUrl": "https://lh3.googleusercontent.com/a/default-user=s64",
      "userId": "17203730376393528118"
     },
     "user_tz": -120
    },
    "id": "VK7wkNTHa2Yy",
    "outputId": "c07af1c6-e8e7-4431-c933-a50c96548f0f"
   },
   "outputs": [
    {
     "name": "stdout",
     "output_type": "stream",
     "text": [
      "The slowest run took 4.25 times longer than the fastest. This could mean that an intermediate result is being cached.\n",
      "1000000 loops, best of 5: 1.18 µs per loop\n"
     ]
    }
   ],
   "source": [
    "#### Temps de computation\n",
    "\n",
    "%%timeit\n",
    "\n",
    "[herve**2 for herve in number_list] "
   ]
  },
  {
   "cell_type": "code",
   "execution_count": 21,
   "metadata": {
    "colab": {
     "base_uri": "https://localhost:8080/"
    },
    "executionInfo": {
     "elapsed": 8202,
     "status": "ok",
     "timestamp": 1635164949250,
     "user": {
      "displayName": "Yacine ASLIMI",
      "photoUrl": "https://lh3.googleusercontent.com/a/default-user=s64",
      "userId": "17203730376393528118"
     },
     "user_tz": -120
    },
    "id": "Jw2PEm_nbJrd",
    "outputId": "c2ffcd96-59fc-41a8-a413-d22d44f46cf5"
   },
   "outputs": [
    {
     "name": "stdout",
     "output_type": "stream",
     "text": [
      "The slowest run took 9.51 times longer than the fastest. This could mean that an intermediate result is being cached.\n",
      "1000000 loops, best of 5: 1.3 µs per loop\n"
     ]
    }
   ],
   "source": [
    "%%timeit\n",
    "\n",
    "number_list = [1, 2, 3, 4]\n",
    "li = []\n",
    "\n",
    "for ele in number_list: #### Pour chaque élement de l'objet\n",
    "  li.append(ele**2)  #### J'affiche l'élement au carré que je place dans la liste li"
   ]
  },
  {
   "cell_type": "markdown",
   "metadata": {
    "id": "TuMad9p5d4iM"
   },
   "source": [
    "and with conditional options:"
   ]
  },
  {
   "cell_type": "code",
   "execution_count": 22,
   "metadata": {
    "colab": {
     "base_uri": "https://localhost:8080/"
    },
    "executionInfo": {
     "elapsed": 297,
     "status": "ok",
     "timestamp": 1635165121266,
     "user": {
      "displayName": "Yacine ASLIMI",
      "photoUrl": "https://lh3.googleusercontent.com/a/default-user=s64",
      "userId": "17203730376393528118"
     },
     "user_tz": -120
    },
    "id": "hqbwHW9fd4iR",
    "outputId": "5436bcb8-8d77-4bc9-9f4b-5e7a40fd6678",
    "run_control": {
     "frozen": false,
     "read_only": false
    }
   },
   "outputs": [
    {
     "data": {
      "text/plain": [
       "[4, 9, 16]"
      ]
     },
     "execution_count": 22,
     "metadata": {},
     "output_type": "execute_result"
    }
   ],
   "source": [
    "[i**2 for i in number_list if i>1] #### Condition i > 1"
   ]
  },
  {
   "cell_type": "code",
   "execution_count": null,
   "metadata": {
    "id": "SZg_tCcSd4iR",
    "run_control": {
     "frozen": false,
     "read_only": false
    }
   },
   "outputs": [],
   "source": [
    "[i**2 for i in number_list if i>1]"
   ]
  },
  {
   "cell_type": "code",
   "execution_count": null,
   "metadata": {
    "id": "spsAYhsid4iS",
    "run_control": {
     "frozen": false,
     "read_only": false
    }
   },
   "outputs": [],
   "source": [
    "# Let's try multiplying with two on a list of strings:\n",
    "print([i*2 for i in a_repeated_list])"
   ]
  },
  {
   "cell_type": "markdown",
   "metadata": {
    "id": "qoZoka9sd4iS"
   },
   "source": [
    "Cool, this works! let's check more about strings:"
   ]
  },
  {
   "cell_type": "markdown",
   "metadata": {
    "id": "xvTJQ3WGd4iT"
   },
   "source": [
    "#### Strings"
   ]
  },
  {
   "cell_type": "markdown",
   "metadata": {
    "id": "NmPXVv9Bd4iT"
   },
   "source": [
    "Different string syntaxes (simple, double or triple quotes)"
   ]
  },
  {
   "cell_type": "code",
   "execution_count": 23,
   "metadata": {
    "colab": {
     "base_uri": "https://localhost:8080/"
    },
    "executionInfo": {
     "elapsed": 280,
     "status": "ok",
     "timestamp": 1635165141179,
     "user": {
      "displayName": "Yacine ASLIMI",
      "photoUrl": "https://lh3.googleusercontent.com/a/default-user=s64",
      "userId": "17203730376393528118"
     },
     "user_tz": -120
    },
    "id": "vk4upc9Ud4iT",
    "outputId": "881b7768-7f40-4cfd-8fb3-2cf62862a147",
    "run_control": {
     "frozen": false,
     "read_only": false
    }
   },
   "outputs": [
    {
     "name": "stdout",
     "output_type": "stream",
     "text": [
      "Never gonna give you up\n",
      "never gonna let you down\n",
      "Never gonna run around \n",
      "    and desert you\n",
      "Never gonna make you cry, \n",
      "    never gonna say goodbye\n"
     ]
    }
   ],
   "source": [
    "s = 'Never gonna give you up'\n",
    "print(s)\n",
    "s = \"never gonna let you down\"\n",
    "print(s)\n",
    "s = '''Never gonna run around \n",
    "    and desert you'''         \n",
    "print(s)\n",
    "s = \"\"\"Never gonna make you cry, \n",
    "    never gonna say goodbye\"\"\"\n",
    "print(s)"
   ]
  },
  {
   "cell_type": "code",
   "execution_count": 4,
   "metadata": {
    "id": "OZnwoE2Kd4iU",
    "run_control": {
     "frozen": false,
     "read_only": false
    }
   },
   "outputs": [
    {
     "name": "stdout",
     "output_type": "stream",
     "text": [
      "Hi, what's up?\n"
     ]
    }
   ],
   "source": [
    "## pay attention when using apostrophes! - test out the nxt two lines one at a time\n",
    "#print('Hi, what's up?')\n",
    "print(\"Hi, what's up?\")"
   ]
  },
  {
   "cell_type": "markdown",
   "metadata": {
    "id": "W2Qnqf5dd4iV"
   },
   "source": [
    "The newline character is **\\n**, and the tab character is **\\t**."
   ]
  },
  {
   "cell_type": "code",
   "execution_count": 32,
   "metadata": {
    "colab": {
     "base_uri": "https://localhost:8080/"
    },
    "executionInfo": {
     "elapsed": 245,
     "status": "ok",
     "timestamp": 1635165560033,
     "user": {
      "displayName": "Yacine ASLIMI",
      "photoUrl": "https://lh3.googleusercontent.com/a/default-user=s64",
      "userId": "17203730376393528118"
     },
     "user_tz": -120
    },
    "id": "0xEBTKwqd4iW",
    "outputId": "9994ec95-1d98-405e-be00-e2194eda856f",
    "run_control": {
     "frozen": false,
     "read_only": false
    }
   },
   "outputs": [
    {
     "name": "stdout",
     "output_type": "stream",
     "text": [
      "Never gonna tell a lie and hurt you. Never gonna give you up,\tnever gonna\tlet you down\n",
      "Never \n",
      "gonna\n",
      " run around and\t desert\t you\n"
     ]
    }
   ],
   "source": [
    "print('''Never gonna tell a lie and hurt you. Never gonna give you up,\\tnever gonna\\tlet you down\n",
    "Never \\ngonna\\n run around and\\t desert\\t you''')"
   ]
  },
  {
   "cell_type": "code",
   "execution_count": 33,
   "metadata": {
    "colab": {
     "base_uri": "https://localhost:8080/"
    },
    "executionInfo": {
     "elapsed": 258,
     "status": "ok",
     "timestamp": 1635165667637,
     "user": {
      "displayName": "Yacine ASLIMI",
      "photoUrl": "https://lh3.googleusercontent.com/a/default-user=s64",
      "userId": "17203730376393528118"
     },
     "user_tz": -120
    },
    "id": "35W7MG-Fcdk6",
    "outputId": "06bdadb2-8c8e-4d57-dfb3-d06c15a1700a"
   },
   "outputs": [
    {
     "name": "stdout",
     "output_type": "stream",
     "text": [
      "Hello\tWorld\n"
     ]
    }
   ],
   "source": [
    "a = 1\n",
    "if (a == 1):\n",
    "  print(\"Hello\\tWorld\")"
   ]
  },
  {
   "cell_type": "markdown",
   "metadata": {
    "id": "Xz4j2KKod4iY"
   },
   "source": [
    "Strings are collections like lists. Hence they can be indexed and sliced, using the same syntax and rules."
   ]
  },
  {
   "cell_type": "code",
   "execution_count": 7,
   "metadata": {
    "colab": {
     "base_uri": "https://localhost:8080/"
    },
    "executionInfo": {
     "elapsed": 233,
     "status": "ok",
     "timestamp": 1635166008917,
     "user": {
      "displayName": "Yacine ASLIMI",
      "photoUrl": "https://lh3.googleusercontent.com/a/default-user=s64",
      "userId": "17203730376393528118"
     },
     "user_tz": -120
    },
    "id": "-_C8HcrBd4iY",
    "outputId": "eee8dd6d-34ea-48a4-8c29-95b555bc4a9f",
    "run_control": {
     "frozen": false,
     "read_only": false
    }
   },
   "outputs": [
    {
     "name": "stdout",
     "output_type": "stream",
     "text": [
      "h\n"
     ]
    }
   ],
   "source": [
    "a_string = \"hello\"\n",
    "print(a_string[0])"
   ]
  },
  {
   "cell_type": "code",
   "execution_count": 8,
   "metadata": {
    "colab": {
     "base_uri": "https://localhost:8080/"
    },
    "executionInfo": {
     "elapsed": 324,
     "status": "ok",
     "timestamp": 1635165719530,
     "user": {
      "displayName": "Yacine ASLIMI",
      "photoUrl": "https://lh3.googleusercontent.com/a/default-user=s64",
      "userId": "17203730376393528118"
     },
     "user_tz": -120
    },
    "id": "o1aSSes0dztj",
    "outputId": "4db992ae-5796-4ced-8fc7-91c2aea0920a"
   },
   "outputs": [
    {
     "name": "stdout",
     "output_type": "stream",
     "text": [
      "ello\n"
     ]
    }
   ],
   "source": [
    "print(a_string[1:5])\n"
   ]
  },
  {
   "cell_type": "code",
   "execution_count": 38,
   "metadata": {
    "colab": {
     "base_uri": "https://localhost:8080/"
    },
    "executionInfo": {
     "elapsed": 359,
     "status": "ok",
     "timestamp": 1635165839188,
     "user": {
      "displayName": "Yacine ASLIMI",
      "photoUrl": "https://lh3.googleusercontent.com/a/default-user=s64",
      "userId": "17203730376393528118"
     },
     "user_tz": -120
    },
    "id": "KAglHNFHd0IE",
    "outputId": "1de8b346-7760-4180-a668-7ae12f261164"
   },
   "outputs": [
    {
     "name": "stdout",
     "output_type": "stream",
     "text": [
      "ell\n"
     ]
    }
   ],
   "source": [
    "print(a_string[-4:-1]) #### Récupérer les élement de -4 à -1 (-1 exclue )"
   ]
  },
  {
   "cell_type": "code",
   "execution_count": 40,
   "metadata": {
    "colab": {
     "base_uri": "https://localhost:8080/"
    },
    "executionInfo": {
     "elapsed": 231,
     "status": "ok",
     "timestamp": 1635165870382,
     "user": {
      "displayName": "Yacine ASLIMI",
      "photoUrl": "https://lh3.googleusercontent.com/a/default-user=s64",
      "userId": "17203730376393528118"
     },
     "user_tz": -120
    },
    "id": "BUSDNNLdetpV",
    "outputId": "4efb7d85-d010-4c0b-e946-90dcb33f31be"
   },
   "outputs": [
    {
     "name": "stdout",
     "output_type": "stream",
     "text": [
      "ello\n"
     ]
    }
   ],
   "source": [
    "print(a_string[-4:])"
   ]
  },
  {
   "cell_type": "code",
   "execution_count": 15,
   "metadata": {
    "colab": {
     "base_uri": "https://localhost:8080/"
    },
    "executionInfo": {
     "elapsed": 291,
     "status": "ok",
     "timestamp": 1635166015004,
     "user": {
      "displayName": "Yacine ASLIMI",
      "photoUrl": "https://lh3.googleusercontent.com/a/default-user=s64",
      "userId": "17203730376393528118"
     },
     "user_tz": -120
    },
    "id": "msOeYc0Ke5Uj",
    "outputId": "5927bbdc-5e6b-42cd-b064-79edc7af34e9"
   },
   "outputs": [
    {
     "name": "stdout",
     "output_type": "stream",
     "text": [
      "ell\n"
     ]
    }
   ],
   "source": [
    "print(a_string[-4:-1:1])"
   ]
  },
  {
   "cell_type": "markdown",
   "metadata": {
    "id": "YMqj-Gujd4iZ"
   },
   "source": [
    "Accents and special characters can also be handled in Unicode strings (see http://docs.python.org/tutorial/introduction.html#unicode-strings)."
   ]
  },
  {
   "cell_type": "code",
   "execution_count": 16,
   "metadata": {
    "id": "jbH2vrsed4iZ",
    "run_control": {
     "frozen": false,
     "read_only": false
    }
   },
   "outputs": [
    {
     "name": "stdout",
     "output_type": "stream",
     "text": [
      "Hello World !\n"
     ]
    }
   ],
   "source": [
    "print(u'Hello\\u0020World !')"
   ]
  },
  {
   "cell_type": "markdown",
   "metadata": {
    "id": "yyIEV1Dvd4ia"
   },
   "source": [
    "A string is an immutable object and it is not possible to modify its contents. One may however create new strings from the original one."
   ]
  },
  {
   "cell_type": "code",
   "execution_count": null,
   "metadata": {
    "id": "URKEHFzOd4ia",
    "run_control": {
     "frozen": false,
     "read_only": false
    }
   },
   "outputs": [],
   "source": [
    "#a_string[3] = 'q'   # uncomment this cell"
   ]
  },
  {
   "cell_type": "markdown",
   "metadata": {
    "id": "t-qz-5Vjd4ib"
   },
   "source": [
    "We won't introduce all methods on strings, but let's check the namespace and apply a few of them:"
   ]
  },
  {
   "cell_type": "code",
   "execution_count": null,
   "metadata": {
    "id": "1j_Qszqmd4ib",
    "run_control": {
     "frozen": false,
     "read_only": false
    }
   },
   "outputs": [],
   "source": [
    "#dir(str) # uncomment this cell"
   ]
  },
  {
   "cell_type": "code",
   "execution_count": 46,
   "metadata": {
    "colab": {
     "base_uri": "https://localhost:8080/",
     "height": 35
    },
    "executionInfo": {
     "elapsed": 265,
     "status": "ok",
     "timestamp": 1635166041454,
     "user": {
      "displayName": "Yacine ASLIMI",
      "photoUrl": "https://lh3.googleusercontent.com/a/default-user=s64",
      "userId": "17203730376393528118"
     },
     "user_tz": -120
    },
    "id": "SrT9QNUxd4ic",
    "outputId": "2a2c1c43-a98b-4dd0-d45b-ad3de85f8c99",
    "run_control": {
     "frozen": false,
     "read_only": false
    }
   },
   "outputs": [
    {
     "data": {
      "application/vnd.google.colaboratory.intrinsic+json": {
       "type": "string"
      },
      "text/plain": [
       "'strawberry-raspberry pastry package party'"
      ]
     },
     "execution_count": 46,
     "metadata": {},
     "output_type": "execute_result"
    }
   ],
   "source": [
    "another_string = \"Strawberry-raspBerry pAstry package party\"\n",
    "another_string.lower() #### Minuscule"
   ]
  },
  {
   "cell_type": "code",
   "execution_count": 47,
   "metadata": {
    "colab": {
     "base_uri": "https://localhost:8080/",
     "height": 35
    },
    "executionInfo": {
     "elapsed": 252,
     "status": "ok",
     "timestamp": 1635166074162,
     "user": {
      "displayName": "Yacine ASLIMI",
      "photoUrl": "https://lh3.googleusercontent.com/a/default-user=s64",
      "userId": "17203730376393528118"
     },
     "user_tz": -120
    },
    "id": "OvxxLwk1ffGr",
    "outputId": "392ff9d6-8089-47c5-aa1c-b25d5d7acfdb"
   },
   "outputs": [
    {
     "data": {
      "application/vnd.google.colaboratory.intrinsic+json": {
       "type": "string"
      },
      "text/plain": [
       "'STRAWBERRY-RASPBERRY PASTRY PACKAGE PARTY'"
      ]
     },
     "execution_count": 47,
     "metadata": {},
     "output_type": "execute_result"
    }
   ],
   "source": [
    "another_string = \"Strawberry-raspBerry pAstry package party\"\n",
    "another_string.upper()"
   ]
  },
  {
   "cell_type": "code",
   "execution_count": 48,
   "metadata": {
    "colab": {
     "base_uri": "https://localhost:8080/",
     "height": 35
    },
    "executionInfo": {
     "elapsed": 265,
     "status": "ok",
     "timestamp": 1635166169932,
     "user": {
      "displayName": "Yacine ASLIMI",
      "photoUrl": "https://lh3.googleusercontent.com/a/default-user=s64",
      "userId": "17203730376393528118"
     },
     "user_tz": -120
    },
    "id": "IAFz64GFfmDL",
    "outputId": "9b2d1d2c-da28-4731-e615-8f69544e389f"
   },
   "outputs": [
    {
     "data": {
      "application/vnd.google.colaboratory.intrinsic+json": {
       "type": "string"
      },
      "text/plain": [
       "'stlawbelly-laspbelly pastly package palty'"
      ]
     },
     "execution_count": 48,
     "metadata": {},
     "output_type": "execute_result"
    }
   ],
   "source": [
    "another_string = \"Strawberry-raspBerry pAstry package party\"\n",
    "another_string.lower().replace(\"r\", \"l\") #### repmplacer l'ensemble des r par des l"
   ]
  },
  {
   "cell_type": "code",
   "execution_count": 17,
   "metadata": {
    "executionInfo": {
     "elapsed": 309,
     "status": "ok",
     "timestamp": 1635166195801,
     "user": {
      "displayName": "Yacine ASLIMI",
      "photoUrl": "https://lh3.googleusercontent.com/a/default-user=s64",
      "userId": "17203730376393528118"
     },
     "user_tz": -120
    },
    "id": "MRu3Z2-Jf-1R"
   },
   "outputs": [],
   "source": [
    "str.replace?"
   ]
  },
  {
   "cell_type": "code",
   "execution_count": 51,
   "metadata": {
    "colab": {
     "base_uri": "https://localhost:8080/",
     "height": 35
    },
    "executionInfo": {
     "elapsed": 267,
     "status": "ok",
     "timestamp": 1635166396590,
     "user": {
      "displayName": "Yacine ASLIMI",
      "photoUrl": "https://lh3.googleusercontent.com/a/default-user=s64",
      "userId": "17203730376393528118"
     },
     "user_tz": -120
    },
    "id": "2-yLhEcUggf4",
    "outputId": "f1c6e41a-557b-49ba-c671-0e98c97105bb"
   },
   "outputs": [
    {
     "data": {
      "application/vnd.google.colaboratory.intrinsic+json": {
       "type": "string"
      },
      "text/plain": [
       "'stlawbelly-laspberry pastry package party'"
      ]
     },
     "execution_count": 51,
     "metadata": {},
     "output_type": "execute_result"
    }
   ],
   "source": [
    "another_string = \"Strawberry-raspBerry pAstry package party\"\n",
    "another_string.lower().replace(\"r\", \"l\", 4)  #### On remplce les 4 premier r de note str"
   ]
  },
  {
   "cell_type": "code",
   "execution_count": 52,
   "metadata": {
    "colab": {
     "base_uri": "https://localhost:8080/",
     "height": 35
    },
    "executionInfo": {
     "elapsed": 340,
     "status": "ok",
     "timestamp": 1635166451056,
     "user": {
      "displayName": "Yacine ASLIMI",
      "photoUrl": "https://lh3.googleusercontent.com/a/default-user=s64",
      "userId": "17203730376393528118"
     },
     "user_tz": -120
    },
    "id": "xBjUKhb2g9kG",
    "outputId": "3fd93f45-c710-4731-ba7b-ae8077bf7068"
   },
   "outputs": [
    {
     "data": {
      "application/vnd.google.colaboratory.intrinsic+json": {
       "type": "string"
      },
      "text/plain": [
       "'STLAWBELLY-LASPBERRY PASTRY PACKAGE PARTY'"
      ]
     },
     "execution_count": 52,
     "metadata": {},
     "output_type": "execute_result"
    }
   ],
   "source": [
    "another_string.lower().replace(\"r\", \"l\", 4).upper()"
   ]
  },
  {
   "cell_type": "markdown",
   "metadata": {
    "id": "0ICVS0xJd4ic"
   },
   "source": [
    "String formatting to make the output as wanted can be done as follows:"
   ]
  },
  {
   "cell_type": "code",
   "execution_count": 18,
   "metadata": {
    "id": "lk-hohURd4id",
    "run_control": {
     "frozen": false,
     "read_only": false
    }
   },
   "outputs": [
    {
     "name": "stdout",
     "output_type": "stream",
     "text": [
      "An integer: 1; a float: 0.100000; another string: string\n"
     ]
    }
   ],
   "source": [
    "print('An integer: %i; a float: %f; another string: %s' % (1, 0.1, 'string'))"
   ]
  },
  {
   "cell_type": "markdown",
   "metadata": {
    "id": "hF_Tn4JOd4id"
   },
   "source": [
    "The [`format` string print](https://pyformat.info/) options in python 3 are able to interpret the conversions itself:"
   ]
  },
  {
   "cell_type": "code",
   "execution_count": 53,
   "metadata": {
    "colab": {
     "base_uri": "https://localhost:8080/"
    },
    "executionInfo": {
     "elapsed": 311,
     "status": "ok",
     "timestamp": 1635166580697,
     "user": {
      "displayName": "Yacine ASLIMI",
      "photoUrl": "https://lh3.googleusercontent.com/a/default-user=s64",
      "userId": "17203730376393528118"
     },
     "user_tz": -120
    },
    "id": "b1fo8uLSd4id",
    "outputId": "dbddcdb0-2379-4bb3-e4e2-118735bcc01c",
    "run_control": {
     "frozen": false,
     "read_only": false
    }
   },
   "outputs": [
    {
     "name": "stdout",
     "output_type": "stream",
     "text": [
      "An integer: 1; a float: 0.1; another string: string\n"
     ]
    }
   ],
   "source": [
    "print('An integer: {}; a float: {}; another string: {}'.format(1, 0.1, 'string'))"
   ]
  },
  {
   "cell_type": "code",
   "execution_count": 54,
   "metadata": {
    "colab": {
     "base_uri": "https://localhost:8080/"
    },
    "executionInfo": {
     "elapsed": 245,
     "status": "ok",
     "timestamp": 1635166687852,
     "user": {
      "displayName": "Yacine ASLIMI",
      "photoUrl": "https://lh3.googleusercontent.com/a/default-user=s64",
      "userId": "17203730376393528118"
     },
     "user_tz": -120
    },
    "id": "BgIBoxKuh0W5",
    "outputId": "501ce02e-d361-4952-e665-6c287309096f"
   },
   "outputs": [
    {
     "name": "stdout",
     "output_type": "stream",
     "text": [
      "An integer: string; a float: 1; another string: 0.1\n"
     ]
    }
   ],
   "source": [
    "print('An integer: {2}; a float: {0}; another string: {1}'.format(1, 0.1, 'string'))"
   ]
  },
  {
   "cell_type": "code",
   "execution_count": null,
   "metadata": {
    "id": "-OEp5B75d4ie",
    "run_control": {
     "frozen": false,
     "read_only": false
    }
   },
   "outputs": [],
   "source": [
    "n_dataset_number = 20\n",
    "sFilename = 'processing_of_dataset_%d.txt' % n_dataset_number\n",
    "print(sFilename)"
   ]
  },
  {
   "cell_type": "markdown",
   "metadata": {
    "id": "wMgULf4bd4ie"
   },
   "source": [
    "<div class=\"alert alert alert-success\">\n",
    "    <b>Exercise</b>: With the `dir(list)` command, all the methods of the list type are printed. However, where not interested in the hidden methods. Use a list comprehension to only print the non-hidden methods (methods with no starting or trailing '_'):\n",
    "</div>"
   ]
  },
  {
   "cell_type": "code",
   "execution_count": 19,
   "metadata": {
    "colab": {
     "base_uri": "https://localhost:8080/"
    },
    "executionInfo": {
     "elapsed": 305,
     "status": "ok",
     "timestamp": 1635166803578,
     "user": {
      "displayName": "Yacine ASLIMI",
      "photoUrl": "https://lh3.googleusercontent.com/a/default-user=s64",
      "userId": "17203730376393528118"
     },
     "user_tz": -120
    },
    "id": "5r3UPfU6d4if",
    "outputId": "d6270866-db1e-485e-af17-804a2057ba3d"
   },
   "outputs": [
    {
     "data": {
      "text/plain": [
       "['__add__',\n",
       " '__class__',\n",
       " '__contains__',\n",
       " '__delattr__',\n",
       " '__delitem__',\n",
       " '__dir__',\n",
       " '__doc__',\n",
       " '__eq__',\n",
       " '__format__',\n",
       " '__ge__',\n",
       " '__getattribute__',\n",
       " '__getitem__',\n",
       " '__gt__',\n",
       " '__hash__',\n",
       " '__iadd__',\n",
       " '__imul__',\n",
       " '__init__',\n",
       " '__init_subclass__',\n",
       " '__iter__',\n",
       " '__le__',\n",
       " '__len__',\n",
       " '__lt__',\n",
       " '__mul__',\n",
       " '__ne__',\n",
       " '__new__',\n",
       " '__reduce__',\n",
       " '__reduce_ex__',\n",
       " '__repr__',\n",
       " '__reversed__',\n",
       " '__rmul__',\n",
       " '__setattr__',\n",
       " '__setitem__',\n",
       " '__sizeof__',\n",
       " '__str__',\n",
       " '__subclasshook__',\n",
       " 'append',\n",
       " 'clear',\n",
       " 'copy',\n",
       " 'count',\n",
       " 'extend',\n",
       " 'index',\n",
       " 'insert',\n",
       " 'pop',\n",
       " 'remove',\n",
       " 'reverse',\n",
       " 'sort']"
      ]
     },
     "execution_count": 19,
     "metadata": {},
     "output_type": "execute_result"
    }
   ],
   "source": [
    "dir(list)"
   ]
  },
  {
   "cell_type": "code",
   "execution_count": 60,
   "metadata": {
    "colab": {
     "base_uri": "https://localhost:8080/",
     "height": 35
    },
    "executionInfo": {
     "elapsed": 258,
     "status": "ok",
     "timestamp": 1635169330252,
     "user": {
      "displayName": "Yacine ASLIMI",
      "photoUrl": "https://lh3.googleusercontent.com/a/default-user=s64",
      "userId": "17203730376393528118"
     },
     "user_tz": -120
    },
    "id": "CnxvgSZkrz1W",
    "outputId": "0f4d455b-ecde-467c-9efb-bec16ce22df2"
   },
   "outputs": [
    {
     "data": {
      "application/vnd.google.colaboratory.intrinsic+json": {
       "type": "string"
      },
      "text/plain": [
       "'__add__'"
      ]
     },
     "execution_count": 60,
     "metadata": {},
     "output_type": "execute_result"
    }
   ],
   "source": [
    "dir(list)[0] ### Accede aux éléments de l'objet"
   ]
  },
  {
   "cell_type": "code",
   "execution_count": 62,
   "metadata": {
    "colab": {
     "base_uri": "https://localhost:8080/",
     "height": 35
    },
    "executionInfo": {
     "elapsed": 342,
     "status": "ok",
     "timestamp": 1635169381828,
     "user": {
      "displayName": "Yacine ASLIMI",
      "photoUrl": "https://lh3.googleusercontent.com/a/default-user=s64",
      "userId": "17203730376393528118"
     },
     "user_tz": -120
    },
    "id": "PX7uuo9MsIcz",
    "outputId": "04cf341a-81a7-4717-ba8a-d95dd800f1ea"
   },
   "outputs": [
    {
     "data": {
      "application/vnd.google.colaboratory.intrinsic+json": {
       "type": "string"
      },
      "text/plain": [
       "'__contains__'"
      ]
     },
     "execution_count": 62,
     "metadata": {},
     "output_type": "execute_result"
    }
   ],
   "source": [
    "dir(list)[2]"
   ]
  },
  {
   "cell_type": "code",
   "execution_count": 61,
   "metadata": {
    "colab": {
     "base_uri": "https://localhost:8080/",
     "height": 35
    },
    "executionInfo": {
     "elapsed": 285,
     "status": "ok",
     "timestamp": 1635169355715,
     "user": {
      "displayName": "Yacine ASLIMI",
      "photoUrl": "https://lh3.googleusercontent.com/a/default-user=s64",
      "userId": "17203730376393528118"
     },
     "user_tz": -120
    },
    "id": "6kGO8eSFsC9S",
    "outputId": "cf9919b5-9255-42af-ed5d-5b83c2cc0fc2"
   },
   "outputs": [
    {
     "data": {
      "application/vnd.google.colaboratory.intrinsic+json": {
       "type": "string"
      },
      "text/plain": [
       "'sort'"
      ]
     },
     "execution_count": 61,
     "metadata": {},
     "output_type": "execute_result"
    }
   ],
   "source": [
    "dir(list)[-1]"
   ]
  },
  {
   "cell_type": "code",
   "execution_count": 63,
   "metadata": {
    "colab": {
     "base_uri": "https://localhost:8080/",
     "height": 35
    },
    "executionInfo": {
     "elapsed": 476,
     "status": "ok",
     "timestamp": 1635169460214,
     "user": {
      "displayName": "Yacine ASLIMI",
      "photoUrl": "https://lh3.googleusercontent.com/a/default-user=s64",
      "userId": "17203730376393528118"
     },
     "user_tz": -120
    },
    "id": "zo8_l7Z-sR08",
    "outputId": "7a885ea6-3e28-4a35-b025-b076d311d5f7"
   },
   "outputs": [
    {
     "data": {
      "application/vnd.google.colaboratory.intrinsic+json": {
       "type": "string"
      },
      "text/plain": [
       "'__'"
      ]
     },
     "execution_count": 63,
     "metadata": {},
     "output_type": "execute_result"
    }
   ],
   "source": [
    "#### deux premier caractère du premier élement\n",
    "\n",
    "dir(list)[0][0:2]"
   ]
  },
  {
   "cell_type": "code",
   "execution_count": 64,
   "metadata": {
    "colab": {
     "base_uri": "https://localhost:8080/",
     "height": 35
    },
    "executionInfo": {
     "elapsed": 248,
     "status": "ok",
     "timestamp": 1635169482158,
     "user": {
      "displayName": "Yacine ASLIMI",
      "photoUrl": "https://lh3.googleusercontent.com/a/default-user=s64",
      "userId": "17203730376393528118"
     },
     "user_tz": -120
    },
    "id": "ffbt6HrfshLv",
    "outputId": "496ae80e-8004-4232-e7cc-e34f1780e924"
   },
   "outputs": [
    {
     "data": {
      "application/vnd.google.colaboratory.intrinsic+json": {
       "type": "string"
      },
      "text/plain": [
       "'so'"
      ]
     },
     "execution_count": 64,
     "metadata": {},
     "output_type": "execute_result"
    }
   ],
   "source": [
    "dir(list)[-1][0:2]"
   ]
  },
  {
   "cell_type": "code",
   "execution_count": 68,
   "metadata": {
    "colab": {
     "base_uri": "https://localhost:8080/"
    },
    "executionInfo": {
     "elapsed": 320,
     "status": "ok",
     "timestamp": 1635169776940,
     "user": {
      "displayName": "Yacine ASLIMI",
      "photoUrl": "https://lh3.googleusercontent.com/a/default-user=s64",
      "userId": "17203730376393528118"
     },
     "user_tz": -120
    },
    "id": "rfwPLKicsF1s",
    "outputId": "9cc0ceb0-c81e-4c85-d781-0e56db7c3fbe"
   },
   "outputs": [
    {
     "name": "stdout",
     "output_type": "stream",
     "text": [
      "append\n",
      "clear\n",
      "copy\n",
      "count\n",
      "extend\n",
      "index\n",
      "insert\n",
      "pop\n",
      "remove\n",
      "reverse\n",
      "sort\n"
     ]
    }
   ],
   "source": [
    "a = []\n",
    "for ele in (dir(list)): ### POur chaque élement de l'objet\n",
    "  if (ele[0:2] != \"__\"): #### Si les deux premiers caractère sont != de \"__\"\n",
    "    print(ele)\n",
    "    a.append(ele) #### Stocke les élements dans l'objet a"
   ]
  },
  {
   "cell_type": "code",
   "execution_count": 69,
   "metadata": {
    "colab": {
     "base_uri": "https://localhost:8080/"
    },
    "executionInfo": {
     "elapsed": 226,
     "status": "ok",
     "timestamp": 1635169781865,
     "user": {
      "displayName": "Yacine ASLIMI",
      "photoUrl": "https://lh3.googleusercontent.com/a/default-user=s64",
      "userId": "17203730376393528118"
     },
     "user_tz": -120
    },
    "id": "PikWVA-rtr20",
    "outputId": "654a1c37-7c40-453e-90b7-c374f91b58c7"
   },
   "outputs": [
    {
     "data": {
      "text/plain": [
       "['append',\n",
       " 'clear',\n",
       " 'copy',\n",
       " 'count',\n",
       " 'extend',\n",
       " 'index',\n",
       " 'insert',\n",
       " 'pop',\n",
       " 'remove',\n",
       " 'reverse',\n",
       " 'sort']"
      ]
     },
     "execution_count": 69,
     "metadata": {},
     "output_type": "execute_result"
    }
   ],
   "source": [
    "a"
   ]
  },
  {
   "cell_type": "code",
   "execution_count": 76,
   "metadata": {
    "colab": {
     "base_uri": "https://localhost:8080/"
    },
    "executionInfo": {
     "elapsed": 337,
     "status": "ok",
     "timestamp": 1635170299292,
     "user": {
      "displayName": "Yacine ASLIMI",
      "photoUrl": "https://lh3.googleusercontent.com/a/default-user=s64",
      "userId": "17203730376393528118"
     },
     "user_tz": -120
    },
    "id": "hb4ks1TmvqLh",
    "outputId": "4ee441bc-0ebc-4cb7-ffe2-bd74b8555d79"
   },
   "outputs": [
    {
     "data": {
      "text/plain": [
       "46"
      ]
     },
     "execution_count": 76,
     "metadata": {},
     "output_type": "execute_result"
    }
   ],
   "source": [
    "len(dir(list))"
   ]
  },
  {
   "cell_type": "code",
   "execution_count": 73,
   "metadata": {
    "colab": {
     "base_uri": "https://localhost:8080/"
    },
    "executionInfo": {
     "elapsed": 241,
     "status": "ok",
     "timestamp": 1635169931015,
     "user": {
      "displayName": "Yacine ASLIMI",
      "photoUrl": "https://lh3.googleusercontent.com/a/default-user=s64",
      "userId": "17203730376393528118"
     },
     "user_tz": -120
    },
    "id": "fULmJQ8it0IJ",
    "outputId": "5ad29b3c-5849-48ca-decb-ddd6ca2559df"
   },
   "outputs": [
    {
     "name": "stdout",
     "output_type": "stream",
     "text": [
      "append\n",
      "clear\n",
      "copy\n",
      "count\n",
      "extend\n",
      "index\n",
      "insert\n",
      "pop\n",
      "remove\n",
      "reverse\n",
      "sort\n"
     ]
    }
   ],
   "source": [
    "b = []\n",
    "for i in range(0,len(dir(list))): ### POur chaque index de l'objet\n",
    "  if (dir(list)[i][0:2] != \"__\"): #### Si les deux premiers caractère sont != de \"__\"\n",
    "    print(dir(list)[i])\n",
    "    b.append(dir(list)[i]) #### Stocke les élements dans l'objet b"
   ]
  },
  {
   "cell_type": "code",
   "execution_count": 74,
   "metadata": {
    "colab": {
     "base_uri": "https://localhost:8080/"
    },
    "executionInfo": {
     "elapsed": 270,
     "status": "ok",
     "timestamp": 1635169937604,
     "user": {
      "displayName": "Yacine ASLIMI",
      "photoUrl": "https://lh3.googleusercontent.com/a/default-user=s64",
      "userId": "17203730376393528118"
     },
     "user_tz": -120
    },
    "id": "F6CDVUQguR8F",
    "outputId": "1ccfb794-479b-43ea-f754-80a87ab4df2b"
   },
   "outputs": [
    {
     "data": {
      "text/plain": [
       "['append',\n",
       " 'clear',\n",
       " 'copy',\n",
       " 'count',\n",
       " 'extend',\n",
       " 'index',\n",
       " 'insert',\n",
       " 'pop',\n",
       " 'remove',\n",
       " 'reverse',\n",
       " 'sort']"
      ]
     },
     "execution_count": 74,
     "metadata": {},
     "output_type": "execute_result"
    }
   ],
   "source": [
    "b"
   ]
  },
  {
   "cell_type": "code",
   "execution_count": 75,
   "metadata": {
    "colab": {
     "base_uri": "https://localhost:8080/"
    },
    "executionInfo": {
     "elapsed": 258,
     "status": "ok",
     "timestamp": 1635169996373,
     "user": {
      "displayName": "Yacine ASLIMI",
      "photoUrl": "https://lh3.googleusercontent.com/a/default-user=s64",
      "userId": "17203730376393528118"
     },
     "user_tz": -120
    },
    "id": "V7Jb1_Ert0Uy",
    "outputId": "e4f77b8c-12f2-4bb7-e502-74883f67b6fa"
   },
   "outputs": [
    {
     "data": {
      "text/plain": [
       "['append',\n",
       " 'clear',\n",
       " 'copy',\n",
       " 'count',\n",
       " 'extend',\n",
       " 'index',\n",
       " 'insert',\n",
       " 'pop',\n",
       " 'remove',\n",
       " 'reverse',\n",
       " 'sort']"
      ]
     },
     "execution_count": 75,
     "metadata": {},
     "output_type": "execute_result"
    }
   ],
   "source": [
    "#### Méthode 3: Liste de compréhension\n",
    "\n",
    "[ ele for ele in (dir(list)) if (ele[0:2] != \"__\")]"
   ]
  },
  {
   "cell_type": "code",
   "execution_count": null,
   "metadata": {
    "id": "qOkTK4t9t0dM"
   },
   "outputs": [],
   "source": []
  },
  {
   "cell_type": "code",
   "execution_count": null,
   "metadata": {
    "id": "gkkxURjJrQCP"
   },
   "outputs": [],
   "source": [
    "##### Correction exercice 1\n",
    "\n"
   ]
  },
  {
   "cell_type": "code",
   "execution_count": null,
   "metadata": {
    "id": "jgv98mCLrQGu"
   },
   "outputs": [],
   "source": []
  },
  {
   "cell_type": "code",
   "execution_count": null,
   "metadata": {
    "id": "1p6d8cYoif_T"
   },
   "outputs": [],
   "source": []
  },
  {
   "cell_type": "markdown",
   "metadata": {
    "id": "DJbD2QYqd4if"
   },
   "source": [
    "<div class=\"alert alert alert-success\">\n",
    "    <b>Exercise</b>: Given the previous sentence `the quick brown fox jumps over the lazy dog`, split the sentence and put all the word-lengths in a list. \n",
    "</div>"
   ]
  },
  {
   "cell_type": "code",
   "execution_count": 20,
   "metadata": {
    "executionInfo": {
     "elapsed": 296,
     "status": "ok",
     "timestamp": 1635168546047,
     "user": {
      "displayName": "Yacine ASLIMI",
      "photoUrl": "https://lh3.googleusercontent.com/a/default-user=s64",
      "userId": "17203730376393528118"
     },
     "user_tz": -120
    },
    "id": "lCuW9fQUd4ig",
    "run_control": {
     "frozen": false,
     "read_only": false
    }
   },
   "outputs": [],
   "source": [
    "sentence = \"the quick brown fox jumps over the lazy dog\""
   ]
  },
  {
   "cell_type": "code",
   "execution_count": 21,
   "metadata": {
    "executionInfo": {
     "elapsed": 249,
     "status": "ok",
     "timestamp": 1635170522245,
     "user": {
      "displayName": "Yacine ASLIMI",
      "photoUrl": "https://lh3.googleusercontent.com/a/default-user=s64",
      "userId": "17203730376393528118"
     },
     "user_tz": -120
    },
    "id": "NgysR_z2wWm_"
   },
   "outputs": [],
   "source": [
    "sentence_2 = \"the_quick_brown_fox_jumps_over_the_lazy_dog\""
   ]
  },
  {
   "cell_type": "code",
   "execution_count": 22,
   "metadata": {
    "colab": {
     "base_uri": "https://localhost:8080/"
    },
    "executionInfo": {
     "elapsed": 364,
     "status": "ok",
     "timestamp": 1635170541969,
     "user": {
      "displayName": "Yacine ASLIMI",
      "photoUrl": "https://lh3.googleusercontent.com/a/default-user=s64",
      "userId": "17203730376393528118"
     },
     "user_tz": -120
    },
    "id": "P-MJMcUmwiEF",
    "outputId": "010795e3-6e8c-4d13-9704-224c54a9b977"
   },
   "outputs": [
    {
     "data": {
      "text/plain": [
       "['the_quick_brown_fox_jumps_over_the_lazy_dog']"
      ]
     },
     "execution_count": 22,
     "metadata": {},
     "output_type": "execute_result"
    }
   ],
   "source": [
    "sentence_2.split()"
   ]
  },
  {
   "cell_type": "code",
   "execution_count": 25,
   "metadata": {
    "colab": {
     "base_uri": "https://localhost:8080/"
    },
    "executionInfo": {
     "elapsed": 254,
     "status": "ok",
     "timestamp": 1635170574568,
     "user": {
      "displayName": "Yacine ASLIMI",
      "photoUrl": "https://lh3.googleusercontent.com/a/default-user=s64",
      "userId": "17203730376393528118"
     },
     "user_tz": -120
    },
    "id": "kXBC2ybIwr8x",
    "outputId": "b790b4e7-ef91-4562-9b0b-057067289dad"
   },
   "outputs": [
    {
     "data": {
      "text/plain": [
       "['the', 'quick', 'brown', 'fox', 'jumps', 'over', 'the', 'lazy', 'dog']"
      ]
     },
     "execution_count": 25,
     "metadata": {},
     "output_type": "execute_result"
    }
   ],
   "source": [
    "sentence_2.split(\"_\") #### Séparateur _"
   ]
  },
  {
   "cell_type": "code",
   "execution_count": 23,
   "metadata": {
    "executionInfo": {
     "elapsed": 244,
     "status": "ok",
     "timestamp": 1635170444687,
     "user": {
      "displayName": "Yacine ASLIMI",
      "photoUrl": "https://lh3.googleusercontent.com/a/default-user=s64",
      "userId": "17203730376393528118"
     },
     "user_tz": -120
    },
    "id": "vOsRhytlwMBF"
   },
   "outputs": [],
   "source": [
    "str.split?"
   ]
  },
  {
   "cell_type": "code",
   "execution_count": 82,
   "metadata": {
    "colab": {
     "base_uri": "https://localhost:8080/"
    },
    "executionInfo": {
     "elapsed": 254,
     "status": "ok",
     "timestamp": 1635170611632,
     "user": {
      "displayName": "Yacine ASLIMI",
      "photoUrl": "https://lh3.googleusercontent.com/a/default-user=s64",
      "userId": "17203730376393528118"
     },
     "user_tz": -120
    },
    "id": "dT077DkMwAi4",
    "outputId": "9bf496ea-1b6e-430f-a7c0-984bb9616aae"
   },
   "outputs": [
    {
     "data": {
      "text/plain": [
       "['the', 'quick', 'brown', 'fox', 'jumps', 'over', 'the', 'lazy', 'dog']"
      ]
     },
     "execution_count": 82,
     "metadata": {},
     "output_type": "execute_result"
    }
   ],
   "source": [
    "sentence.split()"
   ]
  },
  {
   "cell_type": "code",
   "execution_count": 86,
   "metadata": {
    "colab": {
     "base_uri": "https://localhost:8080/"
    },
    "executionInfo": {
     "elapsed": 339,
     "status": "ok",
     "timestamp": 1635170736399,
     "user": {
      "displayName": "Yacine ASLIMI",
      "photoUrl": "https://lh3.googleusercontent.com/a/default-user=s64",
      "userId": "17203730376393528118"
     },
     "user_tz": -120
    },
    "id": "Nun2FP5-w4Xd",
    "outputId": "82bb2be6-f684-4414-acfe-e4bbafbebf43"
   },
   "outputs": [
    {
     "name": "stdout",
     "output_type": "stream",
     "text": [
      "3\n",
      "5\n",
      "5\n",
      "3\n",
      "5\n",
      "4\n",
      "3\n",
      "4\n",
      "3\n"
     ]
    }
   ],
   "source": [
    "c = []\n",
    "for ele in sentence.split(): #### POur chaque élement de la liste\n",
    "  print(len(ele))\n",
    "  c.append(len(ele)) #### J'ajoute la longuer de chaque élement de la liste dans c"
   ]
  },
  {
   "cell_type": "code",
   "execution_count": 87,
   "metadata": {
    "colab": {
     "base_uri": "https://localhost:8080/"
    },
    "executionInfo": {
     "elapsed": 14,
     "status": "ok",
     "timestamp": 1635170737487,
     "user": {
      "displayName": "Yacine ASLIMI",
      "photoUrl": "https://lh3.googleusercontent.com/a/default-user=s64",
      "userId": "17203730376393528118"
     },
     "user_tz": -120
    },
    "id": "XurPZ7iOxHHO",
    "outputId": "b5139181-eb29-43bb-96a8-aa1eb69cac14"
   },
   "outputs": [
    {
     "data": {
      "text/plain": [
       "[3, 5, 5, 3, 5, 4, 3, 4, 3]"
      ]
     },
     "execution_count": 87,
     "metadata": {},
     "output_type": "execute_result"
    }
   ],
   "source": [
    "c"
   ]
  },
  {
   "cell_type": "code",
   "execution_count": 88,
   "metadata": {
    "colab": {
     "base_uri": "https://localhost:8080/"
    },
    "executionInfo": {
     "elapsed": 266,
     "status": "ok",
     "timestamp": 1635170835521,
     "user": {
      "displayName": "Yacine ASLIMI",
      "photoUrl": "https://lh3.googleusercontent.com/a/default-user=s64",
      "userId": "17203730376393528118"
     },
     "user_tz": -120
    },
    "id": "6OXSvlyZd4ig",
    "outputId": "1eb4af4b-be29-4ceb-b3fe-349cd66805a1"
   },
   "outputs": [
    {
     "data": {
      "text/plain": [
       "[3, 5, 5, 3, 5, 4, 3, 4, 3]"
      ]
     },
     "execution_count": 88,
     "metadata": {},
     "output_type": "execute_result"
    }
   ],
   "source": [
    "liste_1 = [len(ele) for ele in sentence.split()]\n",
    "liste_1"
   ]
  },
  {
   "cell_type": "markdown",
   "metadata": {
    "id": "_756qtJmd4ig"
   },
   "source": [
    "------------"
   ]
  },
  {
   "cell_type": "markdown",
   "metadata": {
    "id": "JyqiYnKBd4ih"
   },
   "source": [
    "#### Dictionaries"
   ]
  },
  {
   "cell_type": "markdown",
   "metadata": {
    "id": "wR9SGnW6d4ih"
   },
   "source": [
    "A dictionary is basically an efficient table that **maps keys to values**. It is an **unordered** container\n",
    "\n",
    "It can be used to conveniently store and retrieve values associated with a name"
   ]
  },
  {
   "cell_type": "code",
   "execution_count": 97,
   "metadata": {
    "colab": {
     "base_uri": "https://localhost:8080/"
    },
    "executionInfo": {
     "elapsed": 266,
     "status": "ok",
     "timestamp": 1635171231407,
     "user": {
      "displayName": "Yacine ASLIMI",
      "photoUrl": "https://lh3.googleusercontent.com/a/default-user=s64",
      "userId": "17203730376393528118"
     },
     "user_tz": -120
    },
    "id": "_si0sCxod4ii",
    "outputId": "0391ea17-a8f4-4a6d-9de5-e4d98991b239",
    "run_control": {
     "frozen": false,
     "read_only": false
    }
   },
   "outputs": [
    {
     "data": {
      "text/plain": [
       "{23: 3, 'Frida': 'hello', 'Gaspard': '13', 'Jos': 10, 'herve': [1, 2, 3]}"
      ]
     },
     "execution_count": 97,
     "metadata": {},
     "output_type": "execute_result"
    }
   ],
   "source": [
    "# Always key : value combinations, datatypes can be mixed\n",
    "hourly_wage = {'Jos':10, 'Frida': \"hello\", 'Gaspard': '13', 23 : 3, \"herve\" : [1,2,3]} #### Objet clé valeur\n",
    "hourly_wage"
   ]
  },
  {
   "cell_type": "code",
   "execution_count": 94,
   "metadata": {
    "colab": {
     "base_uri": "https://localhost:8080/"
    },
    "executionInfo": {
     "elapsed": 12,
     "status": "ok",
     "timestamp": 1635171169170,
     "user": {
      "displayName": "Yacine ASLIMI",
      "photoUrl": "https://lh3.googleusercontent.com/a/default-user=s64",
      "userId": "17203730376393528118"
     },
     "user_tz": -120
    },
    "id": "06Uwin04d4ii",
    "outputId": "c16e1a69-86e4-49e5-86d9-fa0f51d88e61",
    "run_control": {
     "frozen": false,
     "read_only": false
    }
   },
   "outputs": [
    {
     "data": {
      "text/plain": [
       "10"
      ]
     },
     "execution_count": 94,
     "metadata": {},
     "output_type": "execute_result"
    }
   ],
   "source": [
    "hourly_wage['Jos'] #### La valeur de la clé \"Jos\""
   ]
  },
  {
   "cell_type": "code",
   "execution_count": 95,
   "metadata": {
    "colab": {
     "base_uri": "https://localhost:8080/",
     "height": 35
    },
    "executionInfo": {
     "elapsed": 488,
     "status": "ok",
     "timestamp": 1635171169911,
     "user": {
      "displayName": "Yacine ASLIMI",
      "photoUrl": "https://lh3.googleusercontent.com/a/default-user=s64",
      "userId": "17203730376393528118"
     },
     "user_tz": -120
    },
    "id": "FN1C4RE9ytrG",
    "outputId": "48d3b29d-0002-4bd3-ea6a-5bf69bc073f3"
   },
   "outputs": [
    {
     "data": {
      "application/vnd.google.colaboratory.intrinsic+json": {
       "type": "string"
      },
      "text/plain": [
       "'hello'"
      ]
     },
     "execution_count": 95,
     "metadata": {},
     "output_type": "execute_result"
    }
   ],
   "source": [
    "hourly_wage[\"Frida\"]"
   ]
  },
  {
   "cell_type": "code",
   "execution_count": 96,
   "metadata": {
    "colab": {
     "base_uri": "https://localhost:8080/"
    },
    "executionInfo": {
     "elapsed": 289,
     "status": "ok",
     "timestamp": 1635171185862,
     "user": {
      "displayName": "Yacine ASLIMI",
      "photoUrl": "https://lh3.googleusercontent.com/a/default-user=s64",
      "userId": "17203730376393528118"
     },
     "user_tz": -120
    },
    "id": "Nla-RErmyya-",
    "outputId": "8e1e946f-f3c6-44ca-ecd4-c34b6b6f3d21"
   },
   "outputs": [
    {
     "data": {
      "text/plain": [
       "3"
      ]
     },
     "execution_count": 96,
     "metadata": {},
     "output_type": "execute_result"
    }
   ],
   "source": [
    "hourly_wage[23] #### Dictionnaire[clé] = valeur"
   ]
  },
  {
   "cell_type": "code",
   "execution_count": 98,
   "metadata": {
    "colab": {
     "base_uri": "https://localhost:8080/"
    },
    "executionInfo": {
     "elapsed": 433,
     "status": "ok",
     "timestamp": 1635171259912,
     "user": {
      "displayName": "Yacine ASLIMI",
      "photoUrl": "https://lh3.googleusercontent.com/a/default-user=s64",
      "userId": "17203730376393528118"
     },
     "user_tz": -120
    },
    "id": "iLE1YNNezSzZ",
    "outputId": "e3f4c250-61ae-4b66-8177-8cf3115afb87"
   },
   "outputs": [
    {
     "data": {
      "text/plain": [
       "[1, 2, 3]"
      ]
     },
     "execution_count": 98,
     "metadata": {},
     "output_type": "execute_result"
    }
   ],
   "source": [
    "hourly_wage[\"herve\"]"
   ]
  },
  {
   "cell_type": "markdown",
   "metadata": {
    "id": "5pP7JK9Qd4ij"
   },
   "source": [
    " =Adding an extra element:"
   ]
  },
  {
   "cell_type": "code",
   "execution_count": 99,
   "metadata": {
    "colab": {
     "base_uri": "https://localhost:8080/"
    },
    "executionInfo": {
     "elapsed": 233,
     "status": "ok",
     "timestamp": 1635171364445,
     "user": {
      "displayName": "Yacine ASLIMI",
      "photoUrl": "https://lh3.googleusercontent.com/a/default-user=s64",
      "userId": "17203730376393528118"
     },
     "user_tz": -120
    },
    "id": "sPoCJ5Ncd4ij",
    "outputId": "76af3f9f-5a58-49ba-846a-aaf540a4bca6",
    "run_control": {
     "frozen": false,
     "read_only": false
    }
   },
   "outputs": [
    {
     "data": {
      "text/plain": [
       "{23: 3,\n",
       " 'Antoinette': 15,\n",
       " 'Frida': 'hello',\n",
       " 'Gaspard': '13',\n",
       " 'Jos': 10,\n",
       " 'herve': [1, 2, 3]}"
      ]
     },
     "execution_count": 99,
     "metadata": {},
     "output_type": "execute_result"
    }
   ],
   "source": [
    "hourly_wage['Antoinette'] = 15 ### NOuvelle valeur\n",
    "hourly_wage"
   ]
  },
  {
   "cell_type": "markdown",
   "metadata": {
    "id": "V-WGYL8Od4ik"
   },
   "source": [
    "You can get the keys and values separately:"
   ]
  },
  {
   "cell_type": "code",
   "execution_count": 100,
   "metadata": {
    "colab": {
     "base_uri": "https://localhost:8080/"
    },
    "executionInfo": {
     "elapsed": 318,
     "status": "ok",
     "timestamp": 1635171393856,
     "user": {
      "displayName": "Yacine ASLIMI",
      "photoUrl": "https://lh3.googleusercontent.com/a/default-user=s64",
      "userId": "17203730376393528118"
     },
     "user_tz": -120
    },
    "id": "XtWOEE0ud4ik",
    "outputId": "5af8a644-b6cd-4528-bf27-86f33cd9addb",
    "run_control": {
     "frozen": false,
     "read_only": false
    }
   },
   "outputs": [
    {
     "data": {
      "text/plain": [
       "dict_keys(['Jos', 'Frida', 'Gaspard', 23, 'herve', 'Antoinette'])"
      ]
     },
     "execution_count": 100,
     "metadata": {},
     "output_type": "execute_result"
    }
   ],
   "source": [
    "hourly_wage.keys() ##### Ensemble des clés"
   ]
  },
  {
   "cell_type": "code",
   "execution_count": 101,
   "metadata": {
    "colab": {
     "base_uri": "https://localhost:8080/"
    },
    "executionInfo": {
     "elapsed": 265,
     "status": "ok",
     "timestamp": 1635171412795,
     "user": {
      "displayName": "Yacine ASLIMI",
      "photoUrl": "https://lh3.googleusercontent.com/a/default-user=s64",
      "userId": "17203730376393528118"
     },
     "user_tz": -120
    },
    "id": "EFS6dW3Fd4il",
    "outputId": "2c1067f1-a699-4e31-858e-7776ccf7b62d",
    "run_control": {
     "frozen": false,
     "read_only": false
    }
   },
   "outputs": [
    {
     "data": {
      "text/plain": [
       "dict_values([10, 'hello', '13', 3, [1, 2, 3], 15])"
      ]
     },
     "execution_count": 101,
     "metadata": {},
     "output_type": "execute_result"
    }
   ],
   "source": [
    "hourly_wage.values() #### Ensemble des valeurs"
   ]
  },
  {
   "cell_type": "code",
   "execution_count": 102,
   "metadata": {
    "colab": {
     "base_uri": "https://localhost:8080/"
    },
    "executionInfo": {
     "elapsed": 626,
     "status": "ok",
     "timestamp": 1635171427970,
     "user": {
      "displayName": "Yacine ASLIMI",
      "photoUrl": "https://lh3.googleusercontent.com/a/default-user=s64",
      "userId": "17203730376393528118"
     },
     "user_tz": -120
    },
    "id": "a1W3IMYEd4il",
    "outputId": "5467bc56-e587-4441-f8d1-b3d4a49f3abe",
    "run_control": {
     "frozen": false,
     "read_only": false
    }
   },
   "outputs": [
    {
     "data": {
      "text/plain": [
       "dict_items([('Jos', 10), ('Frida', 'hello'), ('Gaspard', '13'), (23, 3), ('herve', [1, 2, 3]), ('Antoinette', 15)])"
      ]
     },
     "execution_count": 102,
     "metadata": {},
     "output_type": "execute_result"
    }
   ],
   "source": [
    "hourly_wage.items() # all combinations in a list"
   ]
  },
  {
   "cell_type": "code",
   "execution_count": 103,
   "metadata": {
    "colab": {
     "base_uri": "https://localhost:8080/"
    },
    "executionInfo": {
     "elapsed": 249,
     "status": "ok",
     "timestamp": 1635171501572,
     "user": {
      "displayName": "Yacine ASLIMI",
      "photoUrl": "https://lh3.googleusercontent.com/a/default-user=s64",
      "userId": "17203730376393528118"
     },
     "user_tz": -120
    },
    "id": "BWIwbmu_d4im",
    "outputId": "a42b84dc-653c-4621-cc00-c6c1766dddc6",
    "run_control": {
     "frozen": false,
     "read_only": false
    }
   },
   "outputs": [
    {
     "name": "stdout",
     "output_type": "stream",
     "text": [
      "Jos  earns  10 €/hour\n",
      "Frida  earns  hello €/hour\n",
      "Gaspard  earns  13 €/hour\n",
      "23  earns  3 €/hour\n",
      "herve  earns  [1, 2, 3] €/hour\n",
      "Antoinette  earns  15 €/hour\n"
     ]
    }
   ],
   "source": [
    "# ignore this loop for now, this will be explained later\n",
    "for key, value in hourly_wage.items():\n",
    "    print(key,' earns ', value, '€/hour')"
   ]
  },
  {
   "cell_type": "markdown",
   "metadata": {
    "id": "Fg05dFIbd4in"
   },
   "source": [
    "<div class=\"alert alert alert-success\">\n",
    "    <b>Exercise</b> Put all keys of the hourly_wage dictionary in a list as strings.  If their not yet a string, convert them:\n",
    "</div>"
   ]
  },
  {
   "cell_type": "code",
   "execution_count": null,
   "metadata": {
    "id": "qwUa5Uzbd4io"
   },
   "outputs": [],
   "source": [
    "hourly_wage = {'Jos':10, 'Frida': 9, 'Gaspard': '13', 23 : 3}"
   ]
  },
  {
   "cell_type": "code",
   "execution_count": 104,
   "metadata": {
    "colab": {
     "base_uri": "https://localhost:8080/",
     "height": 35
    },
    "executionInfo": {
     "elapsed": 257,
     "status": "ok",
     "timestamp": 1635171602488,
     "user": {
      "displayName": "Yacine ASLIMI",
      "photoUrl": "https://lh3.googleusercontent.com/a/default-user=s64",
      "userId": "17203730376393528118"
     },
     "user_tz": -120
    },
    "id": "-da5CLO2d4ip",
    "outputId": "fa18de1b-7a48-4204-d9a1-43d42b0b8a6e"
   },
   "outputs": [
    {
     "data": {
      "application/vnd.google.colaboratory.intrinsic+json": {
       "type": "string"
      },
      "text/plain": [
       "'hello'"
      ]
     },
     "execution_count": 104,
     "metadata": {},
     "output_type": "execute_result"
    }
   ],
   "source": [
    "str(\"hello\")"
   ]
  },
  {
   "cell_type": "code",
   "execution_count": 105,
   "metadata": {
    "colab": {
     "base_uri": "https://localhost:8080/",
     "height": 35
    },
    "executionInfo": {
     "elapsed": 239,
     "status": "ok",
     "timestamp": 1635171611662,
     "user": {
      "displayName": "Yacine ASLIMI",
      "photoUrl": "https://lh3.googleusercontent.com/a/default-user=s64",
      "userId": "17203730376393528118"
     },
     "user_tz": -120
    },
    "id": "jjuc_KZq0qD4",
    "outputId": "ce0152ac-4ae4-4d15-f393-dae5fba2a054"
   },
   "outputs": [
    {
     "data": {
      "application/vnd.google.colaboratory.intrinsic+json": {
       "type": "string"
      },
      "text/plain": [
       "'56'"
      ]
     },
     "execution_count": 105,
     "metadata": {},
     "output_type": "execute_result"
    }
   ],
   "source": [
    "str(56)"
   ]
  },
  {
   "cell_type": "code",
   "execution_count": 106,
   "metadata": {
    "colab": {
     "base_uri": "https://localhost:8080/"
    },
    "executionInfo": {
     "elapsed": 337,
     "status": "ok",
     "timestamp": 1635172200442,
     "user": {
      "displayName": "Yacine ASLIMI",
      "photoUrl": "https://lh3.googleusercontent.com/a/default-user=s64",
      "userId": "17203730376393528118"
     },
     "user_tz": -120
    },
    "id": "YBRyDKeJ1_wH",
    "outputId": "5e0127d8-3d57-44e1-be74-e8cbc3817fbc"
   },
   "outputs": [
    {
     "data": {
      "text/plain": [
       "dict_keys(['Jos', 'Frida', 'Gaspard', 23, 'herve', 'Antoinette'])"
      ]
     },
     "execution_count": 106,
     "metadata": {},
     "output_type": "execute_result"
    }
   ],
   "source": [
    "hourly_wage.keys() #### Ensemlbe des clés du dictionnaire"
   ]
  },
  {
   "cell_type": "code",
   "execution_count": 110,
   "metadata": {
    "colab": {
     "base_uri": "https://localhost:8080/"
    },
    "executionInfo": {
     "elapsed": 249,
     "status": "ok",
     "timestamp": 1635172330426,
     "user": {
      "displayName": "Yacine ASLIMI",
      "photoUrl": "https://lh3.googleusercontent.com/a/default-user=s64",
      "userId": "17203730376393528118"
     },
     "user_tz": -120
    },
    "id": "woeUHCRQ28uu",
    "outputId": "1a75ac2f-6aed-4c68-e02a-f2623642d6f1"
   },
   "outputs": [
    {
     "name": "stdout",
     "output_type": "stream",
     "text": [
      "Jos\n",
      "Frida\n",
      "Gaspard\n",
      "23\n",
      "herve\n",
      "Antoinette\n"
     ]
    }
   ],
   "source": [
    "d = []\n",
    "for ele in hourly_wage.keys():\n",
    "  print(ele)\n",
    "  d.append(str(ele)) #### Ajout de l'élément dans d"
   ]
  },
  {
   "cell_type": "code",
   "execution_count": 111,
   "metadata": {
    "colab": {
     "base_uri": "https://localhost:8080/"
    },
    "executionInfo": {
     "elapsed": 33,
     "status": "ok",
     "timestamp": 1635172332481,
     "user": {
      "displayName": "Yacine ASLIMI",
      "photoUrl": "https://lh3.googleusercontent.com/a/default-user=s64",
      "userId": "17203730376393528118"
     },
     "user_tz": -120
    },
    "id": "KM4hIdae3R4x",
    "outputId": "9715f52c-d5de-4142-9e22-b4c03beae5cd"
   },
   "outputs": [
    {
     "data": {
      "text/plain": [
       "['Jos', 'Frida', 'Gaspard', '23', 'herve', 'Antoinette']"
      ]
     },
     "execution_count": 111,
     "metadata": {},
     "output_type": "execute_result"
    }
   ],
   "source": [
    "d"
   ]
  },
  {
   "cell_type": "code",
   "execution_count": 112,
   "metadata": {
    "colab": {
     "base_uri": "https://localhost:8080/"
    },
    "executionInfo": {
     "elapsed": 290,
     "status": "ok",
     "timestamp": 1635172379527,
     "user": {
      "displayName": "Yacine ASLIMI",
      "photoUrl": "https://lh3.googleusercontent.com/a/default-user=s64",
      "userId": "17203730376393528118"
     },
     "user_tz": -120
    },
    "id": "BGujUvV83gcy",
    "outputId": "29b43c60-1ee6-444c-eb04-166f638e9874"
   },
   "outputs": [
    {
     "data": {
      "text/plain": [
       "['Jos', 'Frida', 'Gaspard', '23', 'herve', 'Antoinette']"
      ]
     },
     "execution_count": 112,
     "metadata": {},
     "output_type": "execute_result"
    }
   ],
   "source": [
    "[str(ele) for ele in hourly_wage.keys()] "
   ]
  },
  {
   "cell_type": "markdown",
   "metadata": {
    "id": "zsOk49lvd4ip"
   },
   "source": [
    "----------------------------"
   ]
  },
  {
   "cell_type": "markdown",
   "metadata": {
    "id": "Vf5sDHrPd4ip"
   },
   "source": [
    "#### Tuples"
   ]
  },
  {
   "cell_type": "markdown",
   "metadata": {
    "id": "_aTbZVUId4iq"
   },
   "source": [
    "Tuples are basically immutable lists. The elements of a tuple are written between parentheses, or just separated by commas"
   ]
  },
  {
   "cell_type": "code",
   "execution_count": null,
   "metadata": {
    "id": "zmsSO0c0d4iq",
    "run_control": {
     "frozen": false,
     "read_only": false
    }
   },
   "outputs": [],
   "source": [
    "a_tuple = (2, 3, 'aa', [1, 2])\n",
    "a_tuple"
   ]
  },
  {
   "cell_type": "code",
   "execution_count": null,
   "metadata": {
    "id": "-ahcgaAXd4ir",
    "run_control": {
     "frozen": false,
     "read_only": false
    }
   },
   "outputs": [],
   "source": [
    "a_second_tuple = 2, 3, 'aa', [1,2]\n",
    "a_second_tuple"
   ]
  },
  {
   "cell_type": "markdown",
   "metadata": {
    "id": "Tx-JcB8Hd4ir"
   },
   "source": [
    "the key concept here is mutable vs. immutable\n",
    "* mutable objects can be changed in place\n",
    "* immutable objects cannot be modified once created"
   ]
  }
 ],
 "metadata": {
  "celltoolbar": "Nbtutor - export exercises",
  "colab": {
   "collapsed_sections": [
    "Vf5sDHrPd4ip"
   ],
   "name": "01-basic-Enoncé (1) (1).ipynb",
   "provenance": []
  },
  "kernelspec": {
   "display_name": "Python 3",
   "language": "python",
   "name": "python3"
  },
  "language_info": {
   "codemirror_mode": {
    "name": "ipython",
    "version": 3
   },
   "file_extension": ".py",
   "mimetype": "text/x-python",
   "name": "python",
   "nbconvert_exporter": "python",
   "pygments_lexer": "ipython3",
   "version": "3.8.8"
  },
  "nav_menu": {},
  "toc": {
   "navigate_menu": true,
   "number_sections": true,
   "sideBar": true,
   "threshold": 6,
   "toc_cell": false,
   "toc_section_display": "block",
   "toc_window_display": true
  }
 },
 "nbformat": 4,
 "nbformat_minor": 1
}
